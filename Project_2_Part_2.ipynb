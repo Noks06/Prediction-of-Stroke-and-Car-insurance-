{
  "nbformat": 4,
  "nbformat_minor": 0,
  "metadata": {
    "colab": {
      "provenance": [],
      "toc_visible": true,
      "mount_file_id": "1z_Z_fhrBXK8Xcmn5bI1iXKlA9jQ4h_d2",
      "authorship_tag": "ABX9TyPQiLZkyqP40Mn8+t+OB9XL",
      "include_colab_link": true
    },
    "kernelspec": {
      "name": "python3",
      "display_name": "Python 3"
    },
    "language_info": {
      "name": "python"
    }
  },
  "cells": [
    {
      "cell_type": "markdown",
      "metadata": {
        "id": "view-in-github",
        "colab_type": "text"
      },
      "source": [
        "<a href=\"https://colab.research.google.com/github/Noks06/Prediction-of-Stroke-and-Car-insurance-/blob/main/Project_2_Part_2.ipynb\" target=\"_parent\"><img src=\"https://colab.research.google.com/assets/colab-badge.svg\" alt=\"Open In Colab\"/></a>"
      ]
    },
    {
      "cell_type": "markdown",
      "source": [
        "# Project 2 Part 2\n",
        "by Nokuthula Mchunu"
      ],
      "metadata": {
        "id": "L5-3-h6_35XA"
      }
    },
    {
      "cell_type": "code",
      "execution_count": 51,
      "metadata": {
        "colab": {
          "base_uri": "https://localhost:8080/"
        },
        "id": "8DTZKqhY3mk4",
        "outputId": "3efd2859-0903-43eb-9651-db1d0cb34480"
      },
      "outputs": [
        {
          "output_type": "stream",
          "name": "stdout",
          "text": [
            "Drive already mounted at /content/drive; to attempt to forcibly remount, call drive.mount(\"/content/drive\", force_remount=True).\n"
          ]
        }
      ],
      "source": [
        "# mount the drive\n",
        "from google.colab import drive\n",
        "drive.mount('/content/drive')"
      ]
    },
    {
      "cell_type": "code",
      "source": [
        "#importing relevent imports\n",
        "import pandas as pd\n",
        "import numpy as np\n",
        "\n",
        "# for Visualisation\n",
        "import matplotlib.pyplot as plt\n",
        "import seaborn as sbn\n"
      ],
      "metadata": {
        "id": "UjdXObsE52j0"
      },
      "execution_count": 52,
      "outputs": []
    },
    {
      "cell_type": "markdown",
      "source": [
        "##  First choice: Stroke Prediction Dataset"
      ],
      "metadata": {
        "id": "wO7-s9Ij4Woo"
      }
    },
    {
      "cell_type": "code",
      "source": [
        "#read csv file and load to dataframe\n",
        "strokefile ='/content/drive/MyDrive/CodingDojo/02-MachineLearning/Week08/Data/healthcare-dataset-stroke-data.csv'\n",
        "\n",
        "dfstroke = pd.read_csv(strokefile)\n",
        "#explore top 5 rows\n",
        "dfstroke.head()"
      ],
      "metadata": {
        "colab": {
          "base_uri": "https://localhost:8080/",
          "height": 261
        },
        "id": "H-icBVpi6IAC",
        "outputId": "1165ff5e-f66b-4984-c2d7-144f066c9a8c"
      },
      "execution_count": 53,
      "outputs": [
        {
          "output_type": "execute_result",
          "data": {
            "text/plain": [
              "      id  gender   age  hypertension  heart_disease ever_married  \\\n",
              "0   9046    Male  67.0             0              1          Yes   \n",
              "1  51676  Female  61.0             0              0          Yes   \n",
              "2  31112    Male  80.0             0              1          Yes   \n",
              "3  60182  Female  49.0             0              0          Yes   \n",
              "4   1665  Female  79.0             1              0          Yes   \n",
              "\n",
              "       work_type Residence_type  avg_glucose_level   bmi   smoking_status  \\\n",
              "0        Private          Urban             228.69  36.6  formerly smoked   \n",
              "1  Self-employed          Rural             202.21   NaN     never smoked   \n",
              "2        Private          Rural             105.92  32.5     never smoked   \n",
              "3        Private          Urban             171.23  34.4           smokes   \n",
              "4  Self-employed          Rural             174.12  24.0     never smoked   \n",
              "\n",
              "   stroke  \n",
              "0       1  \n",
              "1       1  \n",
              "2       1  \n",
              "3       1  \n",
              "4       1  "
            ],
            "text/html": [
              "\n",
              "  <div id=\"df-ddacb0bc-fd20-4de2-ab5b-3dcab7f902d0\" class=\"colab-df-container\">\n",
              "    <div>\n",
              "<style scoped>\n",
              "    .dataframe tbody tr th:only-of-type {\n",
              "        vertical-align: middle;\n",
              "    }\n",
              "\n",
              "    .dataframe tbody tr th {\n",
              "        vertical-align: top;\n",
              "    }\n",
              "\n",
              "    .dataframe thead th {\n",
              "        text-align: right;\n",
              "    }\n",
              "</style>\n",
              "<table border=\"1\" class=\"dataframe\">\n",
              "  <thead>\n",
              "    <tr style=\"text-align: right;\">\n",
              "      <th></th>\n",
              "      <th>id</th>\n",
              "      <th>gender</th>\n",
              "      <th>age</th>\n",
              "      <th>hypertension</th>\n",
              "      <th>heart_disease</th>\n",
              "      <th>ever_married</th>\n",
              "      <th>work_type</th>\n",
              "      <th>Residence_type</th>\n",
              "      <th>avg_glucose_level</th>\n",
              "      <th>bmi</th>\n",
              "      <th>smoking_status</th>\n",
              "      <th>stroke</th>\n",
              "    </tr>\n",
              "  </thead>\n",
              "  <tbody>\n",
              "    <tr>\n",
              "      <th>0</th>\n",
              "      <td>9046</td>\n",
              "      <td>Male</td>\n",
              "      <td>67.0</td>\n",
              "      <td>0</td>\n",
              "      <td>1</td>\n",
              "      <td>Yes</td>\n",
              "      <td>Private</td>\n",
              "      <td>Urban</td>\n",
              "      <td>228.69</td>\n",
              "      <td>36.6</td>\n",
              "      <td>formerly smoked</td>\n",
              "      <td>1</td>\n",
              "    </tr>\n",
              "    <tr>\n",
              "      <th>1</th>\n",
              "      <td>51676</td>\n",
              "      <td>Female</td>\n",
              "      <td>61.0</td>\n",
              "      <td>0</td>\n",
              "      <td>0</td>\n",
              "      <td>Yes</td>\n",
              "      <td>Self-employed</td>\n",
              "      <td>Rural</td>\n",
              "      <td>202.21</td>\n",
              "      <td>NaN</td>\n",
              "      <td>never smoked</td>\n",
              "      <td>1</td>\n",
              "    </tr>\n",
              "    <tr>\n",
              "      <th>2</th>\n",
              "      <td>31112</td>\n",
              "      <td>Male</td>\n",
              "      <td>80.0</td>\n",
              "      <td>0</td>\n",
              "      <td>1</td>\n",
              "      <td>Yes</td>\n",
              "      <td>Private</td>\n",
              "      <td>Rural</td>\n",
              "      <td>105.92</td>\n",
              "      <td>32.5</td>\n",
              "      <td>never smoked</td>\n",
              "      <td>1</td>\n",
              "    </tr>\n",
              "    <tr>\n",
              "      <th>3</th>\n",
              "      <td>60182</td>\n",
              "      <td>Female</td>\n",
              "      <td>49.0</td>\n",
              "      <td>0</td>\n",
              "      <td>0</td>\n",
              "      <td>Yes</td>\n",
              "      <td>Private</td>\n",
              "      <td>Urban</td>\n",
              "      <td>171.23</td>\n",
              "      <td>34.4</td>\n",
              "      <td>smokes</td>\n",
              "      <td>1</td>\n",
              "    </tr>\n",
              "    <tr>\n",
              "      <th>4</th>\n",
              "      <td>1665</td>\n",
              "      <td>Female</td>\n",
              "      <td>79.0</td>\n",
              "      <td>1</td>\n",
              "      <td>0</td>\n",
              "      <td>Yes</td>\n",
              "      <td>Self-employed</td>\n",
              "      <td>Rural</td>\n",
              "      <td>174.12</td>\n",
              "      <td>24.0</td>\n",
              "      <td>never smoked</td>\n",
              "      <td>1</td>\n",
              "    </tr>\n",
              "  </tbody>\n",
              "</table>\n",
              "</div>\n",
              "    <div class=\"colab-df-buttons\">\n",
              "\n",
              "  <div class=\"colab-df-container\">\n",
              "    <button class=\"colab-df-convert\" onclick=\"convertToInteractive('df-ddacb0bc-fd20-4de2-ab5b-3dcab7f902d0')\"\n",
              "            title=\"Convert this dataframe to an interactive table.\"\n",
              "            style=\"display:none;\">\n",
              "\n",
              "  <svg xmlns=\"http://www.w3.org/2000/svg\" height=\"24px\" viewBox=\"0 -960 960 960\">\n",
              "    <path d=\"M120-120v-720h720v720H120Zm60-500h600v-160H180v160Zm220 220h160v-160H400v160Zm0 220h160v-160H400v160ZM180-400h160v-160H180v160Zm440 0h160v-160H620v160ZM180-180h160v-160H180v160Zm440 0h160v-160H620v160Z\"/>\n",
              "  </svg>\n",
              "    </button>\n",
              "\n",
              "  <style>\n",
              "    .colab-df-container {\n",
              "      display:flex;\n",
              "      gap: 12px;\n",
              "    }\n",
              "\n",
              "    .colab-df-convert {\n",
              "      background-color: #E8F0FE;\n",
              "      border: none;\n",
              "      border-radius: 50%;\n",
              "      cursor: pointer;\n",
              "      display: none;\n",
              "      fill: #1967D2;\n",
              "      height: 32px;\n",
              "      padding: 0 0 0 0;\n",
              "      width: 32px;\n",
              "    }\n",
              "\n",
              "    .colab-df-convert:hover {\n",
              "      background-color: #E2EBFA;\n",
              "      box-shadow: 0px 1px 2px rgba(60, 64, 67, 0.3), 0px 1px 3px 1px rgba(60, 64, 67, 0.15);\n",
              "      fill: #174EA6;\n",
              "    }\n",
              "\n",
              "    .colab-df-buttons div {\n",
              "      margin-bottom: 4px;\n",
              "    }\n",
              "\n",
              "    [theme=dark] .colab-df-convert {\n",
              "      background-color: #3B4455;\n",
              "      fill: #D2E3FC;\n",
              "    }\n",
              "\n",
              "    [theme=dark] .colab-df-convert:hover {\n",
              "      background-color: #434B5C;\n",
              "      box-shadow: 0px 1px 3px 1px rgba(0, 0, 0, 0.15);\n",
              "      filter: drop-shadow(0px 1px 2px rgba(0, 0, 0, 0.3));\n",
              "      fill: #FFFFFF;\n",
              "    }\n",
              "  </style>\n",
              "\n",
              "    <script>\n",
              "      const buttonEl =\n",
              "        document.querySelector('#df-ddacb0bc-fd20-4de2-ab5b-3dcab7f902d0 button.colab-df-convert');\n",
              "      buttonEl.style.display =\n",
              "        google.colab.kernel.accessAllowed ? 'block' : 'none';\n",
              "\n",
              "      async function convertToInteractive(key) {\n",
              "        const element = document.querySelector('#df-ddacb0bc-fd20-4de2-ab5b-3dcab7f902d0');\n",
              "        const dataTable =\n",
              "          await google.colab.kernel.invokeFunction('convertToInteractive',\n",
              "                                                    [key], {});\n",
              "        if (!dataTable) return;\n",
              "\n",
              "        const docLinkHtml = 'Like what you see? Visit the ' +\n",
              "          '<a target=\"_blank\" href=https://colab.research.google.com/notebooks/data_table.ipynb>data table notebook</a>'\n",
              "          + ' to learn more about interactive tables.';\n",
              "        element.innerHTML = '';\n",
              "        dataTable['output_type'] = 'display_data';\n",
              "        await google.colab.output.renderOutput(dataTable, element);\n",
              "        const docLink = document.createElement('div');\n",
              "        docLink.innerHTML = docLinkHtml;\n",
              "        element.appendChild(docLink);\n",
              "      }\n",
              "    </script>\n",
              "  </div>\n",
              "\n",
              "\n",
              "<div id=\"df-b638ed39-cdf8-4666-befd-c2cf7aa1dc0b\">\n",
              "  <button class=\"colab-df-quickchart\" onclick=\"quickchart('df-b638ed39-cdf8-4666-befd-c2cf7aa1dc0b')\"\n",
              "            title=\"Suggest charts.\"\n",
              "            style=\"display:none;\">\n",
              "\n",
              "<svg xmlns=\"http://www.w3.org/2000/svg\" height=\"24px\"viewBox=\"0 0 24 24\"\n",
              "     width=\"24px\">\n",
              "    <g>\n",
              "        <path d=\"M19 3H5c-1.1 0-2 .9-2 2v14c0 1.1.9 2 2 2h14c1.1 0 2-.9 2-2V5c0-1.1-.9-2-2-2zM9 17H7v-7h2v7zm4 0h-2V7h2v10zm4 0h-2v-4h2v4z\"/>\n",
              "    </g>\n",
              "</svg>\n",
              "  </button>\n",
              "\n",
              "<style>\n",
              "  .colab-df-quickchart {\n",
              "      --bg-color: #E8F0FE;\n",
              "      --fill-color: #1967D2;\n",
              "      --hover-bg-color: #E2EBFA;\n",
              "      --hover-fill-color: #174EA6;\n",
              "      --disabled-fill-color: #AAA;\n",
              "      --disabled-bg-color: #DDD;\n",
              "  }\n",
              "\n",
              "  [theme=dark] .colab-df-quickchart {\n",
              "      --bg-color: #3B4455;\n",
              "      --fill-color: #D2E3FC;\n",
              "      --hover-bg-color: #434B5C;\n",
              "      --hover-fill-color: #FFFFFF;\n",
              "      --disabled-bg-color: #3B4455;\n",
              "      --disabled-fill-color: #666;\n",
              "  }\n",
              "\n",
              "  .colab-df-quickchart {\n",
              "    background-color: var(--bg-color);\n",
              "    border: none;\n",
              "    border-radius: 50%;\n",
              "    cursor: pointer;\n",
              "    display: none;\n",
              "    fill: var(--fill-color);\n",
              "    height: 32px;\n",
              "    padding: 0;\n",
              "    width: 32px;\n",
              "  }\n",
              "\n",
              "  .colab-df-quickchart:hover {\n",
              "    background-color: var(--hover-bg-color);\n",
              "    box-shadow: 0 1px 2px rgba(60, 64, 67, 0.3), 0 1px 3px 1px rgba(60, 64, 67, 0.15);\n",
              "    fill: var(--button-hover-fill-color);\n",
              "  }\n",
              "\n",
              "  .colab-df-quickchart-complete:disabled,\n",
              "  .colab-df-quickchart-complete:disabled:hover {\n",
              "    background-color: var(--disabled-bg-color);\n",
              "    fill: var(--disabled-fill-color);\n",
              "    box-shadow: none;\n",
              "  }\n",
              "\n",
              "  .colab-df-spinner {\n",
              "    border: 2px solid var(--fill-color);\n",
              "    border-color: transparent;\n",
              "    border-bottom-color: var(--fill-color);\n",
              "    animation:\n",
              "      spin 1s steps(1) infinite;\n",
              "  }\n",
              "\n",
              "  @keyframes spin {\n",
              "    0% {\n",
              "      border-color: transparent;\n",
              "      border-bottom-color: var(--fill-color);\n",
              "      border-left-color: var(--fill-color);\n",
              "    }\n",
              "    20% {\n",
              "      border-color: transparent;\n",
              "      border-left-color: var(--fill-color);\n",
              "      border-top-color: var(--fill-color);\n",
              "    }\n",
              "    30% {\n",
              "      border-color: transparent;\n",
              "      border-left-color: var(--fill-color);\n",
              "      border-top-color: var(--fill-color);\n",
              "      border-right-color: var(--fill-color);\n",
              "    }\n",
              "    40% {\n",
              "      border-color: transparent;\n",
              "      border-right-color: var(--fill-color);\n",
              "      border-top-color: var(--fill-color);\n",
              "    }\n",
              "    60% {\n",
              "      border-color: transparent;\n",
              "      border-right-color: var(--fill-color);\n",
              "    }\n",
              "    80% {\n",
              "      border-color: transparent;\n",
              "      border-right-color: var(--fill-color);\n",
              "      border-bottom-color: var(--fill-color);\n",
              "    }\n",
              "    90% {\n",
              "      border-color: transparent;\n",
              "      border-bottom-color: var(--fill-color);\n",
              "    }\n",
              "  }\n",
              "</style>\n",
              "\n",
              "  <script>\n",
              "    async function quickchart(key) {\n",
              "      const quickchartButtonEl =\n",
              "        document.querySelector('#' + key + ' button');\n",
              "      quickchartButtonEl.disabled = true;  // To prevent multiple clicks.\n",
              "      quickchartButtonEl.classList.add('colab-df-spinner');\n",
              "      try {\n",
              "        const charts = await google.colab.kernel.invokeFunction(\n",
              "            'suggestCharts', [key], {});\n",
              "      } catch (error) {\n",
              "        console.error('Error during call to suggestCharts:', error);\n",
              "      }\n",
              "      quickchartButtonEl.classList.remove('colab-df-spinner');\n",
              "      quickchartButtonEl.classList.add('colab-df-quickchart-complete');\n",
              "    }\n",
              "    (() => {\n",
              "      let quickchartButtonEl =\n",
              "        document.querySelector('#df-b638ed39-cdf8-4666-befd-c2cf7aa1dc0b button');\n",
              "      quickchartButtonEl.style.display =\n",
              "        google.colab.kernel.accessAllowed ? 'block' : 'none';\n",
              "    })();\n",
              "  </script>\n",
              "</div>\n",
              "    </div>\n",
              "  </div>\n"
            ]
          },
          "metadata": {},
          "execution_count": 53
        }
      ]
    },
    {
      "cell_type": "code",
      "source": [
        "dfstroke.info()"
      ],
      "metadata": {
        "colab": {
          "base_uri": "https://localhost:8080/"
        },
        "id": "KkVZb1p-94h5",
        "outputId": "4a3cc722-af32-4eca-92ce-a229ef1f6780"
      },
      "execution_count": 54,
      "outputs": [
        {
          "output_type": "stream",
          "name": "stdout",
          "text": [
            "<class 'pandas.core.frame.DataFrame'>\n",
            "RangeIndex: 5110 entries, 0 to 5109\n",
            "Data columns (total 12 columns):\n",
            " #   Column             Non-Null Count  Dtype  \n",
            "---  ------             --------------  -----  \n",
            " 0   id                 5110 non-null   int64  \n",
            " 1   gender             5110 non-null   object \n",
            " 2   age                5110 non-null   float64\n",
            " 3   hypertension       5110 non-null   int64  \n",
            " 4   heart_disease      5110 non-null   int64  \n",
            " 5   ever_married       5110 non-null   object \n",
            " 6   work_type          5110 non-null   object \n",
            " 7   Residence_type     5110 non-null   object \n",
            " 8   avg_glucose_level  5110 non-null   float64\n",
            " 9   bmi                4909 non-null   float64\n",
            " 10  smoking_status     5110 non-null   object \n",
            " 11  stroke             5110 non-null   int64  \n",
            "dtypes: float64(3), int64(4), object(5)\n",
            "memory usage: 479.2+ KB\n"
          ]
        }
      ]
    },
    {
      "cell_type": "code",
      "source": [],
      "metadata": {
        "id": "SK2PG-ZD8Mal"
      },
      "execution_count": 54,
      "outputs": []
    },
    {
      "cell_type": "markdown",
      "source": [
        "1. Source of data\n",
        "  * The source of data is from Kaggle.com\n",
        "\n",
        "2. Brief description of data\n",
        "  * Dataset contain information of client or patiant to be predicted whether they have a stroke or not\n",
        "\n",
        "3. What is the target?\n",
        "  * Stroke\n",
        "4. What does one row represent? (A person? A business? An event? A product?)\n",
        "  * Row represent a person\n",
        "\n",
        "5. Is this a classification or regression problem?\n",
        "  * classification problem\n",
        "\n",
        "6. How many features does the data have?\n",
        "  * 12 columns\n",
        "7. How many rows are in the dataset?\n",
        "  * 5110 rows\n",
        "8. What, if any, challenges do you foresee in cleaning, exploring, or modeling this dataset?\n",
        "  * I dont foresee much challenges in cleaning the data, only have mbi column that have missing values that needs to be imputed, datatypes are in good shape, might have duplicates column and inconcestancy.Exploring the data there will be no challanges and with modelling may be the challenge will be to choose the best model out of many that I will be trying  "
      ],
      "metadata": {
        "id": "6W1WQXMa7_3w"
      }
    },
    {
      "cell_type": "markdown",
      "source": [
        "## Second choice: Car Insurance Dataset"
      ],
      "metadata": {
        "id": "4EDnXaHK4t08"
      }
    },
    {
      "cell_type": "code",
      "source": [
        "# read csv file and load the dataframe\n",
        "car_Insure_file ='/content/drive/MyDrive/CodingDojo/02-MachineLearning/Week08/Data/Car_Insurance_Claim.csv'\n",
        "dfcar_insure = pd.read_csv(car_Insure_file)\n",
        "\n",
        "# explore top 5 record\n",
        "dfcar_insure.head(5)"
      ],
      "metadata": {
        "colab": {
          "base_uri": "https://localhost:8080/",
          "height": 313
        },
        "id": "cNGrgafc8EX0",
        "outputId": "b9620c5e-2bb9-46d3-e386-6bb869ec9da8"
      },
      "execution_count": 55,
      "outputs": [
        {
          "output_type": "execute_result",
          "data": {
            "text/plain": [
              "       ID    AGE  GENDER      RACE DRIVING_EXPERIENCE    EDUCATION  \\\n",
              "0  569520    65+  female  majority               0-9y  high school   \n",
              "1  750365  16-25    male  majority               0-9y         none   \n",
              "2  199901  16-25  female  majority               0-9y  high school   \n",
              "3  478866  16-25    male  majority               0-9y   university   \n",
              "4  731664  26-39    male  majority             10-19y         none   \n",
              "\n",
              "          INCOME  CREDIT_SCORE  VEHICLE_OWNERSHIP VEHICLE_YEAR  MARRIED  \\\n",
              "0    upper class      0.629027                1.0   after 2015      0.0   \n",
              "1        poverty      0.357757                0.0  before 2015      0.0   \n",
              "2  working class      0.493146                1.0  before 2015      0.0   \n",
              "3  working class      0.206013                1.0  before 2015      0.0   \n",
              "4  working class      0.388366                1.0  before 2015      0.0   \n",
              "\n",
              "   CHILDREN  POSTAL_CODE  ANNUAL_MILEAGE VEHICLE_TYPE  SPEEDING_VIOLATIONS  \\\n",
              "0       1.0        10238         12000.0        sedan                    0   \n",
              "1       0.0        10238         16000.0        sedan                    0   \n",
              "2       0.0        10238         11000.0        sedan                    0   \n",
              "3       1.0        32765         11000.0        sedan                    0   \n",
              "4       0.0        32765         12000.0        sedan                    2   \n",
              "\n",
              "   DUIS  PAST_ACCIDENTS  OUTCOME  \n",
              "0     0               0      0.0  \n",
              "1     0               0      1.0  \n",
              "2     0               0      0.0  \n",
              "3     0               0      0.0  \n",
              "4     0               1      1.0  "
            ],
            "text/html": [
              "\n",
              "  <div id=\"df-a602cb59-15f8-40ec-be6e-2a05b98626c4\" class=\"colab-df-container\">\n",
              "    <div>\n",
              "<style scoped>\n",
              "    .dataframe tbody tr th:only-of-type {\n",
              "        vertical-align: middle;\n",
              "    }\n",
              "\n",
              "    .dataframe tbody tr th {\n",
              "        vertical-align: top;\n",
              "    }\n",
              "\n",
              "    .dataframe thead th {\n",
              "        text-align: right;\n",
              "    }\n",
              "</style>\n",
              "<table border=\"1\" class=\"dataframe\">\n",
              "  <thead>\n",
              "    <tr style=\"text-align: right;\">\n",
              "      <th></th>\n",
              "      <th>ID</th>\n",
              "      <th>AGE</th>\n",
              "      <th>GENDER</th>\n",
              "      <th>RACE</th>\n",
              "      <th>DRIVING_EXPERIENCE</th>\n",
              "      <th>EDUCATION</th>\n",
              "      <th>INCOME</th>\n",
              "      <th>CREDIT_SCORE</th>\n",
              "      <th>VEHICLE_OWNERSHIP</th>\n",
              "      <th>VEHICLE_YEAR</th>\n",
              "      <th>MARRIED</th>\n",
              "      <th>CHILDREN</th>\n",
              "      <th>POSTAL_CODE</th>\n",
              "      <th>ANNUAL_MILEAGE</th>\n",
              "      <th>VEHICLE_TYPE</th>\n",
              "      <th>SPEEDING_VIOLATIONS</th>\n",
              "      <th>DUIS</th>\n",
              "      <th>PAST_ACCIDENTS</th>\n",
              "      <th>OUTCOME</th>\n",
              "    </tr>\n",
              "  </thead>\n",
              "  <tbody>\n",
              "    <tr>\n",
              "      <th>0</th>\n",
              "      <td>569520</td>\n",
              "      <td>65+</td>\n",
              "      <td>female</td>\n",
              "      <td>majority</td>\n",
              "      <td>0-9y</td>\n",
              "      <td>high school</td>\n",
              "      <td>upper class</td>\n",
              "      <td>0.629027</td>\n",
              "      <td>1.0</td>\n",
              "      <td>after 2015</td>\n",
              "      <td>0.0</td>\n",
              "      <td>1.0</td>\n",
              "      <td>10238</td>\n",
              "      <td>12000.0</td>\n",
              "      <td>sedan</td>\n",
              "      <td>0</td>\n",
              "      <td>0</td>\n",
              "      <td>0</td>\n",
              "      <td>0.0</td>\n",
              "    </tr>\n",
              "    <tr>\n",
              "      <th>1</th>\n",
              "      <td>750365</td>\n",
              "      <td>16-25</td>\n",
              "      <td>male</td>\n",
              "      <td>majority</td>\n",
              "      <td>0-9y</td>\n",
              "      <td>none</td>\n",
              "      <td>poverty</td>\n",
              "      <td>0.357757</td>\n",
              "      <td>0.0</td>\n",
              "      <td>before 2015</td>\n",
              "      <td>0.0</td>\n",
              "      <td>0.0</td>\n",
              "      <td>10238</td>\n",
              "      <td>16000.0</td>\n",
              "      <td>sedan</td>\n",
              "      <td>0</td>\n",
              "      <td>0</td>\n",
              "      <td>0</td>\n",
              "      <td>1.0</td>\n",
              "    </tr>\n",
              "    <tr>\n",
              "      <th>2</th>\n",
              "      <td>199901</td>\n",
              "      <td>16-25</td>\n",
              "      <td>female</td>\n",
              "      <td>majority</td>\n",
              "      <td>0-9y</td>\n",
              "      <td>high school</td>\n",
              "      <td>working class</td>\n",
              "      <td>0.493146</td>\n",
              "      <td>1.0</td>\n",
              "      <td>before 2015</td>\n",
              "      <td>0.0</td>\n",
              "      <td>0.0</td>\n",
              "      <td>10238</td>\n",
              "      <td>11000.0</td>\n",
              "      <td>sedan</td>\n",
              "      <td>0</td>\n",
              "      <td>0</td>\n",
              "      <td>0</td>\n",
              "      <td>0.0</td>\n",
              "    </tr>\n",
              "    <tr>\n",
              "      <th>3</th>\n",
              "      <td>478866</td>\n",
              "      <td>16-25</td>\n",
              "      <td>male</td>\n",
              "      <td>majority</td>\n",
              "      <td>0-9y</td>\n",
              "      <td>university</td>\n",
              "      <td>working class</td>\n",
              "      <td>0.206013</td>\n",
              "      <td>1.0</td>\n",
              "      <td>before 2015</td>\n",
              "      <td>0.0</td>\n",
              "      <td>1.0</td>\n",
              "      <td>32765</td>\n",
              "      <td>11000.0</td>\n",
              "      <td>sedan</td>\n",
              "      <td>0</td>\n",
              "      <td>0</td>\n",
              "      <td>0</td>\n",
              "      <td>0.0</td>\n",
              "    </tr>\n",
              "    <tr>\n",
              "      <th>4</th>\n",
              "      <td>731664</td>\n",
              "      <td>26-39</td>\n",
              "      <td>male</td>\n",
              "      <td>majority</td>\n",
              "      <td>10-19y</td>\n",
              "      <td>none</td>\n",
              "      <td>working class</td>\n",
              "      <td>0.388366</td>\n",
              "      <td>1.0</td>\n",
              "      <td>before 2015</td>\n",
              "      <td>0.0</td>\n",
              "      <td>0.0</td>\n",
              "      <td>32765</td>\n",
              "      <td>12000.0</td>\n",
              "      <td>sedan</td>\n",
              "      <td>2</td>\n",
              "      <td>0</td>\n",
              "      <td>1</td>\n",
              "      <td>1.0</td>\n",
              "    </tr>\n",
              "  </tbody>\n",
              "</table>\n",
              "</div>\n",
              "    <div class=\"colab-df-buttons\">\n",
              "\n",
              "  <div class=\"colab-df-container\">\n",
              "    <button class=\"colab-df-convert\" onclick=\"convertToInteractive('df-a602cb59-15f8-40ec-be6e-2a05b98626c4')\"\n",
              "            title=\"Convert this dataframe to an interactive table.\"\n",
              "            style=\"display:none;\">\n",
              "\n",
              "  <svg xmlns=\"http://www.w3.org/2000/svg\" height=\"24px\" viewBox=\"0 -960 960 960\">\n",
              "    <path d=\"M120-120v-720h720v720H120Zm60-500h600v-160H180v160Zm220 220h160v-160H400v160Zm0 220h160v-160H400v160ZM180-400h160v-160H180v160Zm440 0h160v-160H620v160ZM180-180h160v-160H180v160Zm440 0h160v-160H620v160Z\"/>\n",
              "  </svg>\n",
              "    </button>\n",
              "\n",
              "  <style>\n",
              "    .colab-df-container {\n",
              "      display:flex;\n",
              "      gap: 12px;\n",
              "    }\n",
              "\n",
              "    .colab-df-convert {\n",
              "      background-color: #E8F0FE;\n",
              "      border: none;\n",
              "      border-radius: 50%;\n",
              "      cursor: pointer;\n",
              "      display: none;\n",
              "      fill: #1967D2;\n",
              "      height: 32px;\n",
              "      padding: 0 0 0 0;\n",
              "      width: 32px;\n",
              "    }\n",
              "\n",
              "    .colab-df-convert:hover {\n",
              "      background-color: #E2EBFA;\n",
              "      box-shadow: 0px 1px 2px rgba(60, 64, 67, 0.3), 0px 1px 3px 1px rgba(60, 64, 67, 0.15);\n",
              "      fill: #174EA6;\n",
              "    }\n",
              "\n",
              "    .colab-df-buttons div {\n",
              "      margin-bottom: 4px;\n",
              "    }\n",
              "\n",
              "    [theme=dark] .colab-df-convert {\n",
              "      background-color: #3B4455;\n",
              "      fill: #D2E3FC;\n",
              "    }\n",
              "\n",
              "    [theme=dark] .colab-df-convert:hover {\n",
              "      background-color: #434B5C;\n",
              "      box-shadow: 0px 1px 3px 1px rgba(0, 0, 0, 0.15);\n",
              "      filter: drop-shadow(0px 1px 2px rgba(0, 0, 0, 0.3));\n",
              "      fill: #FFFFFF;\n",
              "    }\n",
              "  </style>\n",
              "\n",
              "    <script>\n",
              "      const buttonEl =\n",
              "        document.querySelector('#df-a602cb59-15f8-40ec-be6e-2a05b98626c4 button.colab-df-convert');\n",
              "      buttonEl.style.display =\n",
              "        google.colab.kernel.accessAllowed ? 'block' : 'none';\n",
              "\n",
              "      async function convertToInteractive(key) {\n",
              "        const element = document.querySelector('#df-a602cb59-15f8-40ec-be6e-2a05b98626c4');\n",
              "        const dataTable =\n",
              "          await google.colab.kernel.invokeFunction('convertToInteractive',\n",
              "                                                    [key], {});\n",
              "        if (!dataTable) return;\n",
              "\n",
              "        const docLinkHtml = 'Like what you see? Visit the ' +\n",
              "          '<a target=\"_blank\" href=https://colab.research.google.com/notebooks/data_table.ipynb>data table notebook</a>'\n",
              "          + ' to learn more about interactive tables.';\n",
              "        element.innerHTML = '';\n",
              "        dataTable['output_type'] = 'display_data';\n",
              "        await google.colab.output.renderOutput(dataTable, element);\n",
              "        const docLink = document.createElement('div');\n",
              "        docLink.innerHTML = docLinkHtml;\n",
              "        element.appendChild(docLink);\n",
              "      }\n",
              "    </script>\n",
              "  </div>\n",
              "\n",
              "\n",
              "<div id=\"df-1eff5663-bc3e-4826-b782-547f1f4fe0b9\">\n",
              "  <button class=\"colab-df-quickchart\" onclick=\"quickchart('df-1eff5663-bc3e-4826-b782-547f1f4fe0b9')\"\n",
              "            title=\"Suggest charts.\"\n",
              "            style=\"display:none;\">\n",
              "\n",
              "<svg xmlns=\"http://www.w3.org/2000/svg\" height=\"24px\"viewBox=\"0 0 24 24\"\n",
              "     width=\"24px\">\n",
              "    <g>\n",
              "        <path d=\"M19 3H5c-1.1 0-2 .9-2 2v14c0 1.1.9 2 2 2h14c1.1 0 2-.9 2-2V5c0-1.1-.9-2-2-2zM9 17H7v-7h2v7zm4 0h-2V7h2v10zm4 0h-2v-4h2v4z\"/>\n",
              "    </g>\n",
              "</svg>\n",
              "  </button>\n",
              "\n",
              "<style>\n",
              "  .colab-df-quickchart {\n",
              "      --bg-color: #E8F0FE;\n",
              "      --fill-color: #1967D2;\n",
              "      --hover-bg-color: #E2EBFA;\n",
              "      --hover-fill-color: #174EA6;\n",
              "      --disabled-fill-color: #AAA;\n",
              "      --disabled-bg-color: #DDD;\n",
              "  }\n",
              "\n",
              "  [theme=dark] .colab-df-quickchart {\n",
              "      --bg-color: #3B4455;\n",
              "      --fill-color: #D2E3FC;\n",
              "      --hover-bg-color: #434B5C;\n",
              "      --hover-fill-color: #FFFFFF;\n",
              "      --disabled-bg-color: #3B4455;\n",
              "      --disabled-fill-color: #666;\n",
              "  }\n",
              "\n",
              "  .colab-df-quickchart {\n",
              "    background-color: var(--bg-color);\n",
              "    border: none;\n",
              "    border-radius: 50%;\n",
              "    cursor: pointer;\n",
              "    display: none;\n",
              "    fill: var(--fill-color);\n",
              "    height: 32px;\n",
              "    padding: 0;\n",
              "    width: 32px;\n",
              "  }\n",
              "\n",
              "  .colab-df-quickchart:hover {\n",
              "    background-color: var(--hover-bg-color);\n",
              "    box-shadow: 0 1px 2px rgba(60, 64, 67, 0.3), 0 1px 3px 1px rgba(60, 64, 67, 0.15);\n",
              "    fill: var(--button-hover-fill-color);\n",
              "  }\n",
              "\n",
              "  .colab-df-quickchart-complete:disabled,\n",
              "  .colab-df-quickchart-complete:disabled:hover {\n",
              "    background-color: var(--disabled-bg-color);\n",
              "    fill: var(--disabled-fill-color);\n",
              "    box-shadow: none;\n",
              "  }\n",
              "\n",
              "  .colab-df-spinner {\n",
              "    border: 2px solid var(--fill-color);\n",
              "    border-color: transparent;\n",
              "    border-bottom-color: var(--fill-color);\n",
              "    animation:\n",
              "      spin 1s steps(1) infinite;\n",
              "  }\n",
              "\n",
              "  @keyframes spin {\n",
              "    0% {\n",
              "      border-color: transparent;\n",
              "      border-bottom-color: var(--fill-color);\n",
              "      border-left-color: var(--fill-color);\n",
              "    }\n",
              "    20% {\n",
              "      border-color: transparent;\n",
              "      border-left-color: var(--fill-color);\n",
              "      border-top-color: var(--fill-color);\n",
              "    }\n",
              "    30% {\n",
              "      border-color: transparent;\n",
              "      border-left-color: var(--fill-color);\n",
              "      border-top-color: var(--fill-color);\n",
              "      border-right-color: var(--fill-color);\n",
              "    }\n",
              "    40% {\n",
              "      border-color: transparent;\n",
              "      border-right-color: var(--fill-color);\n",
              "      border-top-color: var(--fill-color);\n",
              "    }\n",
              "    60% {\n",
              "      border-color: transparent;\n",
              "      border-right-color: var(--fill-color);\n",
              "    }\n",
              "    80% {\n",
              "      border-color: transparent;\n",
              "      border-right-color: var(--fill-color);\n",
              "      border-bottom-color: var(--fill-color);\n",
              "    }\n",
              "    90% {\n",
              "      border-color: transparent;\n",
              "      border-bottom-color: var(--fill-color);\n",
              "    }\n",
              "  }\n",
              "</style>\n",
              "\n",
              "  <script>\n",
              "    async function quickchart(key) {\n",
              "      const quickchartButtonEl =\n",
              "        document.querySelector('#' + key + ' button');\n",
              "      quickchartButtonEl.disabled = true;  // To prevent multiple clicks.\n",
              "      quickchartButtonEl.classList.add('colab-df-spinner');\n",
              "      try {\n",
              "        const charts = await google.colab.kernel.invokeFunction(\n",
              "            'suggestCharts', [key], {});\n",
              "      } catch (error) {\n",
              "        console.error('Error during call to suggestCharts:', error);\n",
              "      }\n",
              "      quickchartButtonEl.classList.remove('colab-df-spinner');\n",
              "      quickchartButtonEl.classList.add('colab-df-quickchart-complete');\n",
              "    }\n",
              "    (() => {\n",
              "      let quickchartButtonEl =\n",
              "        document.querySelector('#df-1eff5663-bc3e-4826-b782-547f1f4fe0b9 button');\n",
              "      quickchartButtonEl.style.display =\n",
              "        google.colab.kernel.accessAllowed ? 'block' : 'none';\n",
              "    })();\n",
              "  </script>\n",
              "</div>\n",
              "    </div>\n",
              "  </div>\n"
            ]
          },
          "metadata": {},
          "execution_count": 55
        }
      ]
    },
    {
      "cell_type": "code",
      "source": [
        "# get a quick stats on info\n",
        "dfcar_insure.info()"
      ],
      "metadata": {
        "colab": {
          "base_uri": "https://localhost:8080/"
        },
        "id": "AQgfLR9MB4pX",
        "outputId": "bdc3fe61-7ab8-4935-85cc-bfdc19aabae1"
      },
      "execution_count": 56,
      "outputs": [
        {
          "output_type": "stream",
          "name": "stdout",
          "text": [
            "<class 'pandas.core.frame.DataFrame'>\n",
            "RangeIndex: 10000 entries, 0 to 9999\n",
            "Data columns (total 19 columns):\n",
            " #   Column               Non-Null Count  Dtype  \n",
            "---  ------               --------------  -----  \n",
            " 0   ID                   10000 non-null  int64  \n",
            " 1   AGE                  10000 non-null  object \n",
            " 2   GENDER               10000 non-null  object \n",
            " 3   RACE                 10000 non-null  object \n",
            " 4   DRIVING_EXPERIENCE   10000 non-null  object \n",
            " 5   EDUCATION            10000 non-null  object \n",
            " 6   INCOME               10000 non-null  object \n",
            " 7   CREDIT_SCORE         9018 non-null   float64\n",
            " 8   VEHICLE_OWNERSHIP    10000 non-null  float64\n",
            " 9   VEHICLE_YEAR         10000 non-null  object \n",
            " 10  MARRIED              10000 non-null  float64\n",
            " 11  CHILDREN             10000 non-null  float64\n",
            " 12  POSTAL_CODE          10000 non-null  int64  \n",
            " 13  ANNUAL_MILEAGE       9043 non-null   float64\n",
            " 14  VEHICLE_TYPE         10000 non-null  object \n",
            " 15  SPEEDING_VIOLATIONS  10000 non-null  int64  \n",
            " 16  DUIS                 10000 non-null  int64  \n",
            " 17  PAST_ACCIDENTS       10000 non-null  int64  \n",
            " 18  OUTCOME              10000 non-null  float64\n",
            "dtypes: float64(6), int64(5), object(8)\n",
            "memory usage: 1.4+ MB\n"
          ]
        }
      ]
    },
    {
      "cell_type": "markdown",
      "source": [
        "1. Source of data\n",
        "  * kaggle.com\n",
        "2. Brief description of data\n",
        "  * This data is for car insurance, predicting whether a client put a clain or not\n",
        "3. What is the target?\n",
        "  * Outcome\n",
        "4. What does one row represent? (A person? A business? An event? A product?)\n",
        "  * person\n",
        "5. Is this a classification or regression problem?\n",
        "  * classification problem\n",
        "6. How many features does the data have?\n",
        "  * Has 19 features\n",
        "7. How many rows are in the dataset?\n",
        "  * 10000 rows\n",
        "8. What, if any, challenges do you foresee in cleaning, exploring, or modeling this dataset?\n",
        "\n",
        "* I dont foresee much challenges in cleaning the data, only have credit_score and annual ANNUAL_MILEAGE column that have missing values that needs to be imputed, datatypes are in good shape, might have duplicates column and inconcestancy.Exploring the data there will be no challanges and with modelling may be the challenge will be to choose the best model out of many that I will be trying  "
      ],
      "metadata": {
        "id": "Epqa4-Mr8E8z"
      }
    },
    {
      "cell_type": "markdown",
      "source": [
        "###Part 2"
      ],
      "metadata": {
        "id": "isWdCW4s4SKu"
      }
    },
    {
      "cell_type": "markdown",
      "source": [
        "#### EDA-Load And Explore Data Analysis"
      ],
      "metadata": {
        "id": "ENpBhDb43vjB"
      }
    },
    {
      "cell_type": "code",
      "source": [
        "# Info for Car Insurance data sets\n",
        "dfcar_insure.info()"
      ],
      "metadata": {
        "colab": {
          "base_uri": "https://localhost:8080/"
        },
        "id": "Rqa55KmM4qaW",
        "outputId": "f7cae8ba-58cc-45d1-e400-1de50be17725"
      },
      "execution_count": 57,
      "outputs": [
        {
          "output_type": "stream",
          "name": "stdout",
          "text": [
            "<class 'pandas.core.frame.DataFrame'>\n",
            "RangeIndex: 10000 entries, 0 to 9999\n",
            "Data columns (total 19 columns):\n",
            " #   Column               Non-Null Count  Dtype  \n",
            "---  ------               --------------  -----  \n",
            " 0   ID                   10000 non-null  int64  \n",
            " 1   AGE                  10000 non-null  object \n",
            " 2   GENDER               10000 non-null  object \n",
            " 3   RACE                 10000 non-null  object \n",
            " 4   DRIVING_EXPERIENCE   10000 non-null  object \n",
            " 5   EDUCATION            10000 non-null  object \n",
            " 6   INCOME               10000 non-null  object \n",
            " 7   CREDIT_SCORE         9018 non-null   float64\n",
            " 8   VEHICLE_OWNERSHIP    10000 non-null  float64\n",
            " 9   VEHICLE_YEAR         10000 non-null  object \n",
            " 10  MARRIED              10000 non-null  float64\n",
            " 11  CHILDREN             10000 non-null  float64\n",
            " 12  POSTAL_CODE          10000 non-null  int64  \n",
            " 13  ANNUAL_MILEAGE       9043 non-null   float64\n",
            " 14  VEHICLE_TYPE         10000 non-null  object \n",
            " 15  SPEEDING_VIOLATIONS  10000 non-null  int64  \n",
            " 16  DUIS                 10000 non-null  int64  \n",
            " 17  PAST_ACCIDENTS       10000 non-null  int64  \n",
            " 18  OUTCOME              10000 non-null  float64\n",
            "dtypes: float64(6), int64(5), object(8)\n",
            "memory usage: 1.4+ MB\n"
          ]
        }
      ]
    },
    {
      "cell_type": "markdown",
      "source": [
        "Total number of 10000 rows and 19 columns.\n",
        "Credit_Score and Annual_Mileage  has a missing values. There are 6 floats, 5 int and 8 objects"
      ],
      "metadata": {
        "id": "QYpPuAQI31fb"
      }
    },
    {
      "cell_type": "markdown",
      "source": [
        "#### Droping Unnecessary columns"
      ],
      "metadata": {
        "id": "G4s3TJe25at6"
      }
    },
    {
      "cell_type": "markdown",
      "source": [
        "Droping the unnecssary columns and those are:\n",
        "* ID\n",
        "* CREDIT_SCORE\n",
        "There is not much I can use thes two feature, they are irrelevent in this case"
      ],
      "metadata": {
        "id": "1c3fy3dQ5fb0"
      }
    },
    {
      "cell_type": "code",
      "source": [
        "# dropping unnecssary code\n",
        "dfcar_insure = dfcar_insure.drop(columns=['ID','CREDIT_SCORE'])\n",
        "dfcar_insure.head()"
      ],
      "metadata": {
        "colab": {
          "base_uri": "https://localhost:8080/",
          "height": 313
        },
        "id": "YSAxsK0P41v8",
        "outputId": "cd62f468-38c3-49f7-a60f-99e26df09625"
      },
      "execution_count": 58,
      "outputs": [
        {
          "output_type": "execute_result",
          "data": {
            "text/plain": [
              "     AGE  GENDER      RACE DRIVING_EXPERIENCE    EDUCATION         INCOME  \\\n",
              "0    65+  female  majority               0-9y  high school    upper class   \n",
              "1  16-25    male  majority               0-9y         none        poverty   \n",
              "2  16-25  female  majority               0-9y  high school  working class   \n",
              "3  16-25    male  majority               0-9y   university  working class   \n",
              "4  26-39    male  majority             10-19y         none  working class   \n",
              "\n",
              "   VEHICLE_OWNERSHIP VEHICLE_YEAR  MARRIED  CHILDREN  POSTAL_CODE  \\\n",
              "0                1.0   after 2015      0.0       1.0        10238   \n",
              "1                0.0  before 2015      0.0       0.0        10238   \n",
              "2                1.0  before 2015      0.0       0.0        10238   \n",
              "3                1.0  before 2015      0.0       1.0        32765   \n",
              "4                1.0  before 2015      0.0       0.0        32765   \n",
              "\n",
              "   ANNUAL_MILEAGE VEHICLE_TYPE  SPEEDING_VIOLATIONS  DUIS  PAST_ACCIDENTS  \\\n",
              "0         12000.0        sedan                    0     0               0   \n",
              "1         16000.0        sedan                    0     0               0   \n",
              "2         11000.0        sedan                    0     0               0   \n",
              "3         11000.0        sedan                    0     0               0   \n",
              "4         12000.0        sedan                    2     0               1   \n",
              "\n",
              "   OUTCOME  \n",
              "0      0.0  \n",
              "1      1.0  \n",
              "2      0.0  \n",
              "3      0.0  \n",
              "4      1.0  "
            ],
            "text/html": [
              "\n",
              "  <div id=\"df-e31dedff-27c8-4a7a-baad-1cb19b3ff8e7\" class=\"colab-df-container\">\n",
              "    <div>\n",
              "<style scoped>\n",
              "    .dataframe tbody tr th:only-of-type {\n",
              "        vertical-align: middle;\n",
              "    }\n",
              "\n",
              "    .dataframe tbody tr th {\n",
              "        vertical-align: top;\n",
              "    }\n",
              "\n",
              "    .dataframe thead th {\n",
              "        text-align: right;\n",
              "    }\n",
              "</style>\n",
              "<table border=\"1\" class=\"dataframe\">\n",
              "  <thead>\n",
              "    <tr style=\"text-align: right;\">\n",
              "      <th></th>\n",
              "      <th>AGE</th>\n",
              "      <th>GENDER</th>\n",
              "      <th>RACE</th>\n",
              "      <th>DRIVING_EXPERIENCE</th>\n",
              "      <th>EDUCATION</th>\n",
              "      <th>INCOME</th>\n",
              "      <th>VEHICLE_OWNERSHIP</th>\n",
              "      <th>VEHICLE_YEAR</th>\n",
              "      <th>MARRIED</th>\n",
              "      <th>CHILDREN</th>\n",
              "      <th>POSTAL_CODE</th>\n",
              "      <th>ANNUAL_MILEAGE</th>\n",
              "      <th>VEHICLE_TYPE</th>\n",
              "      <th>SPEEDING_VIOLATIONS</th>\n",
              "      <th>DUIS</th>\n",
              "      <th>PAST_ACCIDENTS</th>\n",
              "      <th>OUTCOME</th>\n",
              "    </tr>\n",
              "  </thead>\n",
              "  <tbody>\n",
              "    <tr>\n",
              "      <th>0</th>\n",
              "      <td>65+</td>\n",
              "      <td>female</td>\n",
              "      <td>majority</td>\n",
              "      <td>0-9y</td>\n",
              "      <td>high school</td>\n",
              "      <td>upper class</td>\n",
              "      <td>1.0</td>\n",
              "      <td>after 2015</td>\n",
              "      <td>0.0</td>\n",
              "      <td>1.0</td>\n",
              "      <td>10238</td>\n",
              "      <td>12000.0</td>\n",
              "      <td>sedan</td>\n",
              "      <td>0</td>\n",
              "      <td>0</td>\n",
              "      <td>0</td>\n",
              "      <td>0.0</td>\n",
              "    </tr>\n",
              "    <tr>\n",
              "      <th>1</th>\n",
              "      <td>16-25</td>\n",
              "      <td>male</td>\n",
              "      <td>majority</td>\n",
              "      <td>0-9y</td>\n",
              "      <td>none</td>\n",
              "      <td>poverty</td>\n",
              "      <td>0.0</td>\n",
              "      <td>before 2015</td>\n",
              "      <td>0.0</td>\n",
              "      <td>0.0</td>\n",
              "      <td>10238</td>\n",
              "      <td>16000.0</td>\n",
              "      <td>sedan</td>\n",
              "      <td>0</td>\n",
              "      <td>0</td>\n",
              "      <td>0</td>\n",
              "      <td>1.0</td>\n",
              "    </tr>\n",
              "    <tr>\n",
              "      <th>2</th>\n",
              "      <td>16-25</td>\n",
              "      <td>female</td>\n",
              "      <td>majority</td>\n",
              "      <td>0-9y</td>\n",
              "      <td>high school</td>\n",
              "      <td>working class</td>\n",
              "      <td>1.0</td>\n",
              "      <td>before 2015</td>\n",
              "      <td>0.0</td>\n",
              "      <td>0.0</td>\n",
              "      <td>10238</td>\n",
              "      <td>11000.0</td>\n",
              "      <td>sedan</td>\n",
              "      <td>0</td>\n",
              "      <td>0</td>\n",
              "      <td>0</td>\n",
              "      <td>0.0</td>\n",
              "    </tr>\n",
              "    <tr>\n",
              "      <th>3</th>\n",
              "      <td>16-25</td>\n",
              "      <td>male</td>\n",
              "      <td>majority</td>\n",
              "      <td>0-9y</td>\n",
              "      <td>university</td>\n",
              "      <td>working class</td>\n",
              "      <td>1.0</td>\n",
              "      <td>before 2015</td>\n",
              "      <td>0.0</td>\n",
              "      <td>1.0</td>\n",
              "      <td>32765</td>\n",
              "      <td>11000.0</td>\n",
              "      <td>sedan</td>\n",
              "      <td>0</td>\n",
              "      <td>0</td>\n",
              "      <td>0</td>\n",
              "      <td>0.0</td>\n",
              "    </tr>\n",
              "    <tr>\n",
              "      <th>4</th>\n",
              "      <td>26-39</td>\n",
              "      <td>male</td>\n",
              "      <td>majority</td>\n",
              "      <td>10-19y</td>\n",
              "      <td>none</td>\n",
              "      <td>working class</td>\n",
              "      <td>1.0</td>\n",
              "      <td>before 2015</td>\n",
              "      <td>0.0</td>\n",
              "      <td>0.0</td>\n",
              "      <td>32765</td>\n",
              "      <td>12000.0</td>\n",
              "      <td>sedan</td>\n",
              "      <td>2</td>\n",
              "      <td>0</td>\n",
              "      <td>1</td>\n",
              "      <td>1.0</td>\n",
              "    </tr>\n",
              "  </tbody>\n",
              "</table>\n",
              "</div>\n",
              "    <div class=\"colab-df-buttons\">\n",
              "\n",
              "  <div class=\"colab-df-container\">\n",
              "    <button class=\"colab-df-convert\" onclick=\"convertToInteractive('df-e31dedff-27c8-4a7a-baad-1cb19b3ff8e7')\"\n",
              "            title=\"Convert this dataframe to an interactive table.\"\n",
              "            style=\"display:none;\">\n",
              "\n",
              "  <svg xmlns=\"http://www.w3.org/2000/svg\" height=\"24px\" viewBox=\"0 -960 960 960\">\n",
              "    <path d=\"M120-120v-720h720v720H120Zm60-500h600v-160H180v160Zm220 220h160v-160H400v160Zm0 220h160v-160H400v160ZM180-400h160v-160H180v160Zm440 0h160v-160H620v160ZM180-180h160v-160H180v160Zm440 0h160v-160H620v160Z\"/>\n",
              "  </svg>\n",
              "    </button>\n",
              "\n",
              "  <style>\n",
              "    .colab-df-container {\n",
              "      display:flex;\n",
              "      gap: 12px;\n",
              "    }\n",
              "\n",
              "    .colab-df-convert {\n",
              "      background-color: #E8F0FE;\n",
              "      border: none;\n",
              "      border-radius: 50%;\n",
              "      cursor: pointer;\n",
              "      display: none;\n",
              "      fill: #1967D2;\n",
              "      height: 32px;\n",
              "      padding: 0 0 0 0;\n",
              "      width: 32px;\n",
              "    }\n",
              "\n",
              "    .colab-df-convert:hover {\n",
              "      background-color: #E2EBFA;\n",
              "      box-shadow: 0px 1px 2px rgba(60, 64, 67, 0.3), 0px 1px 3px 1px rgba(60, 64, 67, 0.15);\n",
              "      fill: #174EA6;\n",
              "    }\n",
              "\n",
              "    .colab-df-buttons div {\n",
              "      margin-bottom: 4px;\n",
              "    }\n",
              "\n",
              "    [theme=dark] .colab-df-convert {\n",
              "      background-color: #3B4455;\n",
              "      fill: #D2E3FC;\n",
              "    }\n",
              "\n",
              "    [theme=dark] .colab-df-convert:hover {\n",
              "      background-color: #434B5C;\n",
              "      box-shadow: 0px 1px 3px 1px rgba(0, 0, 0, 0.15);\n",
              "      filter: drop-shadow(0px 1px 2px rgba(0, 0, 0, 0.3));\n",
              "      fill: #FFFFFF;\n",
              "    }\n",
              "  </style>\n",
              "\n",
              "    <script>\n",
              "      const buttonEl =\n",
              "        document.querySelector('#df-e31dedff-27c8-4a7a-baad-1cb19b3ff8e7 button.colab-df-convert');\n",
              "      buttonEl.style.display =\n",
              "        google.colab.kernel.accessAllowed ? 'block' : 'none';\n",
              "\n",
              "      async function convertToInteractive(key) {\n",
              "        const element = document.querySelector('#df-e31dedff-27c8-4a7a-baad-1cb19b3ff8e7');\n",
              "        const dataTable =\n",
              "          await google.colab.kernel.invokeFunction('convertToInteractive',\n",
              "                                                    [key], {});\n",
              "        if (!dataTable) return;\n",
              "\n",
              "        const docLinkHtml = 'Like what you see? Visit the ' +\n",
              "          '<a target=\"_blank\" href=https://colab.research.google.com/notebooks/data_table.ipynb>data table notebook</a>'\n",
              "          + ' to learn more about interactive tables.';\n",
              "        element.innerHTML = '';\n",
              "        dataTable['output_type'] = 'display_data';\n",
              "        await google.colab.output.renderOutput(dataTable, element);\n",
              "        const docLink = document.createElement('div');\n",
              "        docLink.innerHTML = docLinkHtml;\n",
              "        element.appendChild(docLink);\n",
              "      }\n",
              "    </script>\n",
              "  </div>\n",
              "\n",
              "\n",
              "<div id=\"df-2eb08e59-17f6-4f6b-a6d9-707b7d128535\">\n",
              "  <button class=\"colab-df-quickchart\" onclick=\"quickchart('df-2eb08e59-17f6-4f6b-a6d9-707b7d128535')\"\n",
              "            title=\"Suggest charts.\"\n",
              "            style=\"display:none;\">\n",
              "\n",
              "<svg xmlns=\"http://www.w3.org/2000/svg\" height=\"24px\"viewBox=\"0 0 24 24\"\n",
              "     width=\"24px\">\n",
              "    <g>\n",
              "        <path d=\"M19 3H5c-1.1 0-2 .9-2 2v14c0 1.1.9 2 2 2h14c1.1 0 2-.9 2-2V5c0-1.1-.9-2-2-2zM9 17H7v-7h2v7zm4 0h-2V7h2v10zm4 0h-2v-4h2v4z\"/>\n",
              "    </g>\n",
              "</svg>\n",
              "  </button>\n",
              "\n",
              "<style>\n",
              "  .colab-df-quickchart {\n",
              "      --bg-color: #E8F0FE;\n",
              "      --fill-color: #1967D2;\n",
              "      --hover-bg-color: #E2EBFA;\n",
              "      --hover-fill-color: #174EA6;\n",
              "      --disabled-fill-color: #AAA;\n",
              "      --disabled-bg-color: #DDD;\n",
              "  }\n",
              "\n",
              "  [theme=dark] .colab-df-quickchart {\n",
              "      --bg-color: #3B4455;\n",
              "      --fill-color: #D2E3FC;\n",
              "      --hover-bg-color: #434B5C;\n",
              "      --hover-fill-color: #FFFFFF;\n",
              "      --disabled-bg-color: #3B4455;\n",
              "      --disabled-fill-color: #666;\n",
              "  }\n",
              "\n",
              "  .colab-df-quickchart {\n",
              "    background-color: var(--bg-color);\n",
              "    border: none;\n",
              "    border-radius: 50%;\n",
              "    cursor: pointer;\n",
              "    display: none;\n",
              "    fill: var(--fill-color);\n",
              "    height: 32px;\n",
              "    padding: 0;\n",
              "    width: 32px;\n",
              "  }\n",
              "\n",
              "  .colab-df-quickchart:hover {\n",
              "    background-color: var(--hover-bg-color);\n",
              "    box-shadow: 0 1px 2px rgba(60, 64, 67, 0.3), 0 1px 3px 1px rgba(60, 64, 67, 0.15);\n",
              "    fill: var(--button-hover-fill-color);\n",
              "  }\n",
              "\n",
              "  .colab-df-quickchart-complete:disabled,\n",
              "  .colab-df-quickchart-complete:disabled:hover {\n",
              "    background-color: var(--disabled-bg-color);\n",
              "    fill: var(--disabled-fill-color);\n",
              "    box-shadow: none;\n",
              "  }\n",
              "\n",
              "  .colab-df-spinner {\n",
              "    border: 2px solid var(--fill-color);\n",
              "    border-color: transparent;\n",
              "    border-bottom-color: var(--fill-color);\n",
              "    animation:\n",
              "      spin 1s steps(1) infinite;\n",
              "  }\n",
              "\n",
              "  @keyframes spin {\n",
              "    0% {\n",
              "      border-color: transparent;\n",
              "      border-bottom-color: var(--fill-color);\n",
              "      border-left-color: var(--fill-color);\n",
              "    }\n",
              "    20% {\n",
              "      border-color: transparent;\n",
              "      border-left-color: var(--fill-color);\n",
              "      border-top-color: var(--fill-color);\n",
              "    }\n",
              "    30% {\n",
              "      border-color: transparent;\n",
              "      border-left-color: var(--fill-color);\n",
              "      border-top-color: var(--fill-color);\n",
              "      border-right-color: var(--fill-color);\n",
              "    }\n",
              "    40% {\n",
              "      border-color: transparent;\n",
              "      border-right-color: var(--fill-color);\n",
              "      border-top-color: var(--fill-color);\n",
              "    }\n",
              "    60% {\n",
              "      border-color: transparent;\n",
              "      border-right-color: var(--fill-color);\n",
              "    }\n",
              "    80% {\n",
              "      border-color: transparent;\n",
              "      border-right-color: var(--fill-color);\n",
              "      border-bottom-color: var(--fill-color);\n",
              "    }\n",
              "    90% {\n",
              "      border-color: transparent;\n",
              "      border-bottom-color: var(--fill-color);\n",
              "    }\n",
              "  }\n",
              "</style>\n",
              "\n",
              "  <script>\n",
              "    async function quickchart(key) {\n",
              "      const quickchartButtonEl =\n",
              "        document.querySelector('#' + key + ' button');\n",
              "      quickchartButtonEl.disabled = true;  // To prevent multiple clicks.\n",
              "      quickchartButtonEl.classList.add('colab-df-spinner');\n",
              "      try {\n",
              "        const charts = await google.colab.kernel.invokeFunction(\n",
              "            'suggestCharts', [key], {});\n",
              "      } catch (error) {\n",
              "        console.error('Error during call to suggestCharts:', error);\n",
              "      }\n",
              "      quickchartButtonEl.classList.remove('colab-df-spinner');\n",
              "      quickchartButtonEl.classList.add('colab-df-quickchart-complete');\n",
              "    }\n",
              "    (() => {\n",
              "      let quickchartButtonEl =\n",
              "        document.querySelector('#df-2eb08e59-17f6-4f6b-a6d9-707b7d128535 button');\n",
              "      quickchartButtonEl.style.display =\n",
              "        google.colab.kernel.accessAllowed ? 'block' : 'none';\n",
              "    })();\n",
              "  </script>\n",
              "</div>\n",
              "    </div>\n",
              "  </div>\n"
            ]
          },
          "metadata": {},
          "execution_count": 58
        }
      ]
    },
    {
      "cell_type": "markdown",
      "source": [
        "#### Checking the Duplicates And Droping If Any"
      ],
      "metadata": {
        "id": "ceaKlAxK5z4k"
      }
    },
    {
      "cell_type": "code",
      "source": [
        "# checking duplicates\n",
        "dfcar_insure.duplicated().sum()"
      ],
      "metadata": {
        "colab": {
          "base_uri": "https://localhost:8080/"
        },
        "id": "0pVgCVey3eRI",
        "outputId": "7392be91-2f88-4974-ebba-f29997f286a7"
      },
      "execution_count": 59,
      "outputs": [
        {
          "output_type": "execute_result",
          "data": {
            "text/plain": [
              "771"
            ]
          },
          "metadata": {},
          "execution_count": 59
        }
      ]
    },
    {
      "cell_type": "code",
      "source": [
        "# droping the duplicated\n",
        "dfcar_insure = dfcar_insure.drop_duplicates()"
      ],
      "metadata": {
        "id": "1Z_SQ5Fy6DeY"
      },
      "execution_count": 60,
      "outputs": []
    },
    {
      "cell_type": "code",
      "source": [
        "#rechecking for duplicates\n",
        "dfcar_insure.duplicated().sum()"
      ],
      "metadata": {
        "colab": {
          "base_uri": "https://localhost:8080/"
        },
        "id": "b12HbW5V6cd1",
        "outputId": "7a0a443a-9881-493e-c052-d1641d566853"
      },
      "execution_count": 61,
      "outputs": [
        {
          "output_type": "execute_result",
          "data": {
            "text/plain": [
              "0"
            ]
          },
          "metadata": {},
          "execution_count": 61
        }
      ]
    },
    {
      "cell_type": "markdown",
      "source": [
        "#### Checking Inconcistancy"
      ],
      "metadata": {
        "id": "syC0qLi26kwE"
      }
    },
    {
      "cell_type": "code",
      "source": [
        "#Selecting object columns\n",
        "str_col = dfcar_insure.select_dtypes(include='object').columns\n",
        "str_col\n"
      ],
      "metadata": {
        "colab": {
          "base_uri": "https://localhost:8080/"
        },
        "id": "PMUopsPx6u07",
        "outputId": "9b9a4ba2-c4ac-4da8-e216-ce62383285ce"
      },
      "execution_count": 62,
      "outputs": [
        {
          "output_type": "execute_result",
          "data": {
            "text/plain": [
              "Index(['AGE', 'GENDER', 'RACE', 'DRIVING_EXPERIENCE', 'EDUCATION', 'INCOME',\n",
              "       'VEHICLE_YEAR', 'VEHICLE_TYPE'],\n",
              "      dtype='object')"
            ]
          },
          "metadata": {},
          "execution_count": 62
        }
      ]
    },
    {
      "cell_type": "code",
      "source": [
        "# printing the value count for each r=to check for inconsistancy\n",
        "for stri in  str_col:\n",
        "  print(dfcar_insure[stri].value_counts())\n",
        "  print('')"
      ],
      "metadata": {
        "colab": {
          "base_uri": "https://localhost:8080/"
        },
        "id": "zKSGYzRp6yx4",
        "outputId": "2b8c1464-8d89-4d5a-8cb6-83363df7ee65"
      },
      "execution_count": 63,
      "outputs": [
        {
          "output_type": "stream",
          "name": "stdout",
          "text": [
            "26-39    2960\n",
            "40-64    2848\n",
            "65+      1919\n",
            "16-25    1502\n",
            "Name: AGE, dtype: int64\n",
            "\n",
            "male      4645\n",
            "female    4584\n",
            "Name: GENDER, dtype: int64\n",
            "\n",
            "majority    8258\n",
            "minority     971\n",
            "Name: RACE, dtype: int64\n",
            "\n",
            "10-19y    3239\n",
            "0-9y      2856\n",
            "20-29y    2089\n",
            "30y+      1045\n",
            "Name: DRIVING_EXPERIENCE, dtype: int64\n",
            "\n",
            "high school    3796\n",
            "university     3739\n",
            "none           1694\n",
            "Name: EDUCATION, dtype: int64\n",
            "\n",
            "upper class      4156\n",
            "middle class     2070\n",
            "working class    1602\n",
            "poverty          1401\n",
            "Name: INCOME, dtype: int64\n",
            "\n",
            "before 2015    6308\n",
            "after 2015     2921\n",
            "Name: VEHICLE_YEAR, dtype: int64\n",
            "\n",
            "sedan         8755\n",
            "sports car     474\n",
            "Name: VEHICLE_TYPE, dtype: int64\n",
            "\n"
          ]
        }
      ]
    },
    {
      "cell_type": "markdown",
      "source": [
        "The consistancy seems to be good data in data set is consistance."
      ],
      "metadata": {
        "id": "lD9SPwP36--q"
      }
    },
    {
      "cell_type": "markdown",
      "source": [
        "#### Checking Missing Values"
      ],
      "metadata": {
        "id": "1r7U-Ye07QBn"
      }
    },
    {
      "cell_type": "code",
      "source": [
        "# checking for missing data\n",
        "# first need to make a copy of dataframe for machine learning\n",
        "df_ML = dfcar_insure.copy()\n",
        "df_ML.head()"
      ],
      "metadata": {
        "colab": {
          "base_uri": "https://localhost:8080/",
          "height": 313
        },
        "id": "Wvi8iWmJ6-KE",
        "outputId": "a806897b-ae2b-4c94-8fb4-4d667cc1f9e2"
      },
      "execution_count": 64,
      "outputs": [
        {
          "output_type": "execute_result",
          "data": {
            "text/plain": [
              "     AGE  GENDER      RACE DRIVING_EXPERIENCE    EDUCATION         INCOME  \\\n",
              "0    65+  female  majority               0-9y  high school    upper class   \n",
              "1  16-25    male  majority               0-9y         none        poverty   \n",
              "2  16-25  female  majority               0-9y  high school  working class   \n",
              "3  16-25    male  majority               0-9y   university  working class   \n",
              "4  26-39    male  majority             10-19y         none  working class   \n",
              "\n",
              "   VEHICLE_OWNERSHIP VEHICLE_YEAR  MARRIED  CHILDREN  POSTAL_CODE  \\\n",
              "0                1.0   after 2015      0.0       1.0        10238   \n",
              "1                0.0  before 2015      0.0       0.0        10238   \n",
              "2                1.0  before 2015      0.0       0.0        10238   \n",
              "3                1.0  before 2015      0.0       1.0        32765   \n",
              "4                1.0  before 2015      0.0       0.0        32765   \n",
              "\n",
              "   ANNUAL_MILEAGE VEHICLE_TYPE  SPEEDING_VIOLATIONS  DUIS  PAST_ACCIDENTS  \\\n",
              "0         12000.0        sedan                    0     0               0   \n",
              "1         16000.0        sedan                    0     0               0   \n",
              "2         11000.0        sedan                    0     0               0   \n",
              "3         11000.0        sedan                    0     0               0   \n",
              "4         12000.0        sedan                    2     0               1   \n",
              "\n",
              "   OUTCOME  \n",
              "0      0.0  \n",
              "1      1.0  \n",
              "2      0.0  \n",
              "3      0.0  \n",
              "4      1.0  "
            ],
            "text/html": [
              "\n",
              "  <div id=\"df-36d234c8-1b6f-4e64-a381-bb0390881859\" class=\"colab-df-container\">\n",
              "    <div>\n",
              "<style scoped>\n",
              "    .dataframe tbody tr th:only-of-type {\n",
              "        vertical-align: middle;\n",
              "    }\n",
              "\n",
              "    .dataframe tbody tr th {\n",
              "        vertical-align: top;\n",
              "    }\n",
              "\n",
              "    .dataframe thead th {\n",
              "        text-align: right;\n",
              "    }\n",
              "</style>\n",
              "<table border=\"1\" class=\"dataframe\">\n",
              "  <thead>\n",
              "    <tr style=\"text-align: right;\">\n",
              "      <th></th>\n",
              "      <th>AGE</th>\n",
              "      <th>GENDER</th>\n",
              "      <th>RACE</th>\n",
              "      <th>DRIVING_EXPERIENCE</th>\n",
              "      <th>EDUCATION</th>\n",
              "      <th>INCOME</th>\n",
              "      <th>VEHICLE_OWNERSHIP</th>\n",
              "      <th>VEHICLE_YEAR</th>\n",
              "      <th>MARRIED</th>\n",
              "      <th>CHILDREN</th>\n",
              "      <th>POSTAL_CODE</th>\n",
              "      <th>ANNUAL_MILEAGE</th>\n",
              "      <th>VEHICLE_TYPE</th>\n",
              "      <th>SPEEDING_VIOLATIONS</th>\n",
              "      <th>DUIS</th>\n",
              "      <th>PAST_ACCIDENTS</th>\n",
              "      <th>OUTCOME</th>\n",
              "    </tr>\n",
              "  </thead>\n",
              "  <tbody>\n",
              "    <tr>\n",
              "      <th>0</th>\n",
              "      <td>65+</td>\n",
              "      <td>female</td>\n",
              "      <td>majority</td>\n",
              "      <td>0-9y</td>\n",
              "      <td>high school</td>\n",
              "      <td>upper class</td>\n",
              "      <td>1.0</td>\n",
              "      <td>after 2015</td>\n",
              "      <td>0.0</td>\n",
              "      <td>1.0</td>\n",
              "      <td>10238</td>\n",
              "      <td>12000.0</td>\n",
              "      <td>sedan</td>\n",
              "      <td>0</td>\n",
              "      <td>0</td>\n",
              "      <td>0</td>\n",
              "      <td>0.0</td>\n",
              "    </tr>\n",
              "    <tr>\n",
              "      <th>1</th>\n",
              "      <td>16-25</td>\n",
              "      <td>male</td>\n",
              "      <td>majority</td>\n",
              "      <td>0-9y</td>\n",
              "      <td>none</td>\n",
              "      <td>poverty</td>\n",
              "      <td>0.0</td>\n",
              "      <td>before 2015</td>\n",
              "      <td>0.0</td>\n",
              "      <td>0.0</td>\n",
              "      <td>10238</td>\n",
              "      <td>16000.0</td>\n",
              "      <td>sedan</td>\n",
              "      <td>0</td>\n",
              "      <td>0</td>\n",
              "      <td>0</td>\n",
              "      <td>1.0</td>\n",
              "    </tr>\n",
              "    <tr>\n",
              "      <th>2</th>\n",
              "      <td>16-25</td>\n",
              "      <td>female</td>\n",
              "      <td>majority</td>\n",
              "      <td>0-9y</td>\n",
              "      <td>high school</td>\n",
              "      <td>working class</td>\n",
              "      <td>1.0</td>\n",
              "      <td>before 2015</td>\n",
              "      <td>0.0</td>\n",
              "      <td>0.0</td>\n",
              "      <td>10238</td>\n",
              "      <td>11000.0</td>\n",
              "      <td>sedan</td>\n",
              "      <td>0</td>\n",
              "      <td>0</td>\n",
              "      <td>0</td>\n",
              "      <td>0.0</td>\n",
              "    </tr>\n",
              "    <tr>\n",
              "      <th>3</th>\n",
              "      <td>16-25</td>\n",
              "      <td>male</td>\n",
              "      <td>majority</td>\n",
              "      <td>0-9y</td>\n",
              "      <td>university</td>\n",
              "      <td>working class</td>\n",
              "      <td>1.0</td>\n",
              "      <td>before 2015</td>\n",
              "      <td>0.0</td>\n",
              "      <td>1.0</td>\n",
              "      <td>32765</td>\n",
              "      <td>11000.0</td>\n",
              "      <td>sedan</td>\n",
              "      <td>0</td>\n",
              "      <td>0</td>\n",
              "      <td>0</td>\n",
              "      <td>0.0</td>\n",
              "    </tr>\n",
              "    <tr>\n",
              "      <th>4</th>\n",
              "      <td>26-39</td>\n",
              "      <td>male</td>\n",
              "      <td>majority</td>\n",
              "      <td>10-19y</td>\n",
              "      <td>none</td>\n",
              "      <td>working class</td>\n",
              "      <td>1.0</td>\n",
              "      <td>before 2015</td>\n",
              "      <td>0.0</td>\n",
              "      <td>0.0</td>\n",
              "      <td>32765</td>\n",
              "      <td>12000.0</td>\n",
              "      <td>sedan</td>\n",
              "      <td>2</td>\n",
              "      <td>0</td>\n",
              "      <td>1</td>\n",
              "      <td>1.0</td>\n",
              "    </tr>\n",
              "  </tbody>\n",
              "</table>\n",
              "</div>\n",
              "    <div class=\"colab-df-buttons\">\n",
              "\n",
              "  <div class=\"colab-df-container\">\n",
              "    <button class=\"colab-df-convert\" onclick=\"convertToInteractive('df-36d234c8-1b6f-4e64-a381-bb0390881859')\"\n",
              "            title=\"Convert this dataframe to an interactive table.\"\n",
              "            style=\"display:none;\">\n",
              "\n",
              "  <svg xmlns=\"http://www.w3.org/2000/svg\" height=\"24px\" viewBox=\"0 -960 960 960\">\n",
              "    <path d=\"M120-120v-720h720v720H120Zm60-500h600v-160H180v160Zm220 220h160v-160H400v160Zm0 220h160v-160H400v160ZM180-400h160v-160H180v160Zm440 0h160v-160H620v160ZM180-180h160v-160H180v160Zm440 0h160v-160H620v160Z\"/>\n",
              "  </svg>\n",
              "    </button>\n",
              "\n",
              "  <style>\n",
              "    .colab-df-container {\n",
              "      display:flex;\n",
              "      gap: 12px;\n",
              "    }\n",
              "\n",
              "    .colab-df-convert {\n",
              "      background-color: #E8F0FE;\n",
              "      border: none;\n",
              "      border-radius: 50%;\n",
              "      cursor: pointer;\n",
              "      display: none;\n",
              "      fill: #1967D2;\n",
              "      height: 32px;\n",
              "      padding: 0 0 0 0;\n",
              "      width: 32px;\n",
              "    }\n",
              "\n",
              "    .colab-df-convert:hover {\n",
              "      background-color: #E2EBFA;\n",
              "      box-shadow: 0px 1px 2px rgba(60, 64, 67, 0.3), 0px 1px 3px 1px rgba(60, 64, 67, 0.15);\n",
              "      fill: #174EA6;\n",
              "    }\n",
              "\n",
              "    .colab-df-buttons div {\n",
              "      margin-bottom: 4px;\n",
              "    }\n",
              "\n",
              "    [theme=dark] .colab-df-convert {\n",
              "      background-color: #3B4455;\n",
              "      fill: #D2E3FC;\n",
              "    }\n",
              "\n",
              "    [theme=dark] .colab-df-convert:hover {\n",
              "      background-color: #434B5C;\n",
              "      box-shadow: 0px 1px 3px 1px rgba(0, 0, 0, 0.15);\n",
              "      filter: drop-shadow(0px 1px 2px rgba(0, 0, 0, 0.3));\n",
              "      fill: #FFFFFF;\n",
              "    }\n",
              "  </style>\n",
              "\n",
              "    <script>\n",
              "      const buttonEl =\n",
              "        document.querySelector('#df-36d234c8-1b6f-4e64-a381-bb0390881859 button.colab-df-convert');\n",
              "      buttonEl.style.display =\n",
              "        google.colab.kernel.accessAllowed ? 'block' : 'none';\n",
              "\n",
              "      async function convertToInteractive(key) {\n",
              "        const element = document.querySelector('#df-36d234c8-1b6f-4e64-a381-bb0390881859');\n",
              "        const dataTable =\n",
              "          await google.colab.kernel.invokeFunction('convertToInteractive',\n",
              "                                                    [key], {});\n",
              "        if (!dataTable) return;\n",
              "\n",
              "        const docLinkHtml = 'Like what you see? Visit the ' +\n",
              "          '<a target=\"_blank\" href=https://colab.research.google.com/notebooks/data_table.ipynb>data table notebook</a>'\n",
              "          + ' to learn more about interactive tables.';\n",
              "        element.innerHTML = '';\n",
              "        dataTable['output_type'] = 'display_data';\n",
              "        await google.colab.output.renderOutput(dataTable, element);\n",
              "        const docLink = document.createElement('div');\n",
              "        docLink.innerHTML = docLinkHtml;\n",
              "        element.appendChild(docLink);\n",
              "      }\n",
              "    </script>\n",
              "  </div>\n",
              "\n",
              "\n",
              "<div id=\"df-3b6b3d10-b59b-4be0-8ef8-2f5a33eae831\">\n",
              "  <button class=\"colab-df-quickchart\" onclick=\"quickchart('df-3b6b3d10-b59b-4be0-8ef8-2f5a33eae831')\"\n",
              "            title=\"Suggest charts.\"\n",
              "            style=\"display:none;\">\n",
              "\n",
              "<svg xmlns=\"http://www.w3.org/2000/svg\" height=\"24px\"viewBox=\"0 0 24 24\"\n",
              "     width=\"24px\">\n",
              "    <g>\n",
              "        <path d=\"M19 3H5c-1.1 0-2 .9-2 2v14c0 1.1.9 2 2 2h14c1.1 0 2-.9 2-2V5c0-1.1-.9-2-2-2zM9 17H7v-7h2v7zm4 0h-2V7h2v10zm4 0h-2v-4h2v4z\"/>\n",
              "    </g>\n",
              "</svg>\n",
              "  </button>\n",
              "\n",
              "<style>\n",
              "  .colab-df-quickchart {\n",
              "      --bg-color: #E8F0FE;\n",
              "      --fill-color: #1967D2;\n",
              "      --hover-bg-color: #E2EBFA;\n",
              "      --hover-fill-color: #174EA6;\n",
              "      --disabled-fill-color: #AAA;\n",
              "      --disabled-bg-color: #DDD;\n",
              "  }\n",
              "\n",
              "  [theme=dark] .colab-df-quickchart {\n",
              "      --bg-color: #3B4455;\n",
              "      --fill-color: #D2E3FC;\n",
              "      --hover-bg-color: #434B5C;\n",
              "      --hover-fill-color: #FFFFFF;\n",
              "      --disabled-bg-color: #3B4455;\n",
              "      --disabled-fill-color: #666;\n",
              "  }\n",
              "\n",
              "  .colab-df-quickchart {\n",
              "    background-color: var(--bg-color);\n",
              "    border: none;\n",
              "    border-radius: 50%;\n",
              "    cursor: pointer;\n",
              "    display: none;\n",
              "    fill: var(--fill-color);\n",
              "    height: 32px;\n",
              "    padding: 0;\n",
              "    width: 32px;\n",
              "  }\n",
              "\n",
              "  .colab-df-quickchart:hover {\n",
              "    background-color: var(--hover-bg-color);\n",
              "    box-shadow: 0 1px 2px rgba(60, 64, 67, 0.3), 0 1px 3px 1px rgba(60, 64, 67, 0.15);\n",
              "    fill: var(--button-hover-fill-color);\n",
              "  }\n",
              "\n",
              "  .colab-df-quickchart-complete:disabled,\n",
              "  .colab-df-quickchart-complete:disabled:hover {\n",
              "    background-color: var(--disabled-bg-color);\n",
              "    fill: var(--disabled-fill-color);\n",
              "    box-shadow: none;\n",
              "  }\n",
              "\n",
              "  .colab-df-spinner {\n",
              "    border: 2px solid var(--fill-color);\n",
              "    border-color: transparent;\n",
              "    border-bottom-color: var(--fill-color);\n",
              "    animation:\n",
              "      spin 1s steps(1) infinite;\n",
              "  }\n",
              "\n",
              "  @keyframes spin {\n",
              "    0% {\n",
              "      border-color: transparent;\n",
              "      border-bottom-color: var(--fill-color);\n",
              "      border-left-color: var(--fill-color);\n",
              "    }\n",
              "    20% {\n",
              "      border-color: transparent;\n",
              "      border-left-color: var(--fill-color);\n",
              "      border-top-color: var(--fill-color);\n",
              "    }\n",
              "    30% {\n",
              "      border-color: transparent;\n",
              "      border-left-color: var(--fill-color);\n",
              "      border-top-color: var(--fill-color);\n",
              "      border-right-color: var(--fill-color);\n",
              "    }\n",
              "    40% {\n",
              "      border-color: transparent;\n",
              "      border-right-color: var(--fill-color);\n",
              "      border-top-color: var(--fill-color);\n",
              "    }\n",
              "    60% {\n",
              "      border-color: transparent;\n",
              "      border-right-color: var(--fill-color);\n",
              "    }\n",
              "    80% {\n",
              "      border-color: transparent;\n",
              "      border-right-color: var(--fill-color);\n",
              "      border-bottom-color: var(--fill-color);\n",
              "    }\n",
              "    90% {\n",
              "      border-color: transparent;\n",
              "      border-bottom-color: var(--fill-color);\n",
              "    }\n",
              "  }\n",
              "</style>\n",
              "\n",
              "  <script>\n",
              "    async function quickchart(key) {\n",
              "      const quickchartButtonEl =\n",
              "        document.querySelector('#' + key + ' button');\n",
              "      quickchartButtonEl.disabled = true;  // To prevent multiple clicks.\n",
              "      quickchartButtonEl.classList.add('colab-df-spinner');\n",
              "      try {\n",
              "        const charts = await google.colab.kernel.invokeFunction(\n",
              "            'suggestCharts', [key], {});\n",
              "      } catch (error) {\n",
              "        console.error('Error during call to suggestCharts:', error);\n",
              "      }\n",
              "      quickchartButtonEl.classList.remove('colab-df-spinner');\n",
              "      quickchartButtonEl.classList.add('colab-df-quickchart-complete');\n",
              "    }\n",
              "    (() => {\n",
              "      let quickchartButtonEl =\n",
              "        document.querySelector('#df-3b6b3d10-b59b-4be0-8ef8-2f5a33eae831 button');\n",
              "      quickchartButtonEl.style.display =\n",
              "        google.colab.kernel.accessAllowed ? 'block' : 'none';\n",
              "    })();\n",
              "  </script>\n",
              "</div>\n",
              "    </div>\n",
              "  </div>\n"
            ]
          },
          "metadata": {},
          "execution_count": 64
        }
      ]
    },
    {
      "cell_type": "code",
      "source": [
        "# Check for Null values\n",
        "#Credit_Score and Annual_Mileage\n",
        "\n",
        "dfcar_insure.describe(include='number')"
      ],
      "metadata": {
        "colab": {
          "base_uri": "https://localhost:8080/",
          "height": 320
        },
        "id": "5y5qntHH6-G2",
        "outputId": "06d91b55-5801-4d5c-c840-46e740be819e"
      },
      "execution_count": 65,
      "outputs": [
        {
          "output_type": "execute_result",
          "data": {
            "text/plain": [
              "       VEHICLE_OWNERSHIP      MARRIED     CHILDREN   POSTAL_CODE  \\\n",
              "count        9229.000000  9229.000000  9229.000000   9229.000000   \n",
              "mean            0.711020     0.518149     0.706144  20362.579369   \n",
              "std             0.453313     0.499698     0.455552  19365.351795   \n",
              "min             0.000000     0.000000     0.000000  10238.000000   \n",
              "25%             0.000000     0.000000     0.000000  10238.000000   \n",
              "50%             1.000000     1.000000     1.000000  10238.000000   \n",
              "75%             1.000000     1.000000     1.000000  32765.000000   \n",
              "max             1.000000     1.000000     1.000000  92101.000000   \n",
              "\n",
              "       ANNUAL_MILEAGE  SPEEDING_VIOLATIONS         DUIS  PAST_ACCIDENTS  \\\n",
              "count     8357.000000          9229.000000  9229.000000     9229.000000   \n",
              "mean     11600.813689             1.595948     0.257883        1.134576   \n",
              "std       2820.765050             2.292406     0.572472        1.690730   \n",
              "min       2000.000000             0.000000     0.000000        0.000000   \n",
              "25%      10000.000000             0.000000     0.000000        0.000000   \n",
              "50%      12000.000000             1.000000     0.000000        0.000000   \n",
              "75%      13000.000000             2.000000     0.000000        2.000000   \n",
              "max      22000.000000            22.000000     6.000000       15.000000   \n",
              "\n",
              "           OUTCOME  \n",
              "count  9229.000000  \n",
              "mean      0.284971  \n",
              "std       0.451425  \n",
              "min       0.000000  \n",
              "25%       0.000000  \n",
              "50%       0.000000  \n",
              "75%       1.000000  \n",
              "max       1.000000  "
            ],
            "text/html": [
              "\n",
              "  <div id=\"df-c544a2c8-0ff0-491c-ba1a-a4f2c4409255\" class=\"colab-df-container\">\n",
              "    <div>\n",
              "<style scoped>\n",
              "    .dataframe tbody tr th:only-of-type {\n",
              "        vertical-align: middle;\n",
              "    }\n",
              "\n",
              "    .dataframe tbody tr th {\n",
              "        vertical-align: top;\n",
              "    }\n",
              "\n",
              "    .dataframe thead th {\n",
              "        text-align: right;\n",
              "    }\n",
              "</style>\n",
              "<table border=\"1\" class=\"dataframe\">\n",
              "  <thead>\n",
              "    <tr style=\"text-align: right;\">\n",
              "      <th></th>\n",
              "      <th>VEHICLE_OWNERSHIP</th>\n",
              "      <th>MARRIED</th>\n",
              "      <th>CHILDREN</th>\n",
              "      <th>POSTAL_CODE</th>\n",
              "      <th>ANNUAL_MILEAGE</th>\n",
              "      <th>SPEEDING_VIOLATIONS</th>\n",
              "      <th>DUIS</th>\n",
              "      <th>PAST_ACCIDENTS</th>\n",
              "      <th>OUTCOME</th>\n",
              "    </tr>\n",
              "  </thead>\n",
              "  <tbody>\n",
              "    <tr>\n",
              "      <th>count</th>\n",
              "      <td>9229.000000</td>\n",
              "      <td>9229.000000</td>\n",
              "      <td>9229.000000</td>\n",
              "      <td>9229.000000</td>\n",
              "      <td>8357.000000</td>\n",
              "      <td>9229.000000</td>\n",
              "      <td>9229.000000</td>\n",
              "      <td>9229.000000</td>\n",
              "      <td>9229.000000</td>\n",
              "    </tr>\n",
              "    <tr>\n",
              "      <th>mean</th>\n",
              "      <td>0.711020</td>\n",
              "      <td>0.518149</td>\n",
              "      <td>0.706144</td>\n",
              "      <td>20362.579369</td>\n",
              "      <td>11600.813689</td>\n",
              "      <td>1.595948</td>\n",
              "      <td>0.257883</td>\n",
              "      <td>1.134576</td>\n",
              "      <td>0.284971</td>\n",
              "    </tr>\n",
              "    <tr>\n",
              "      <th>std</th>\n",
              "      <td>0.453313</td>\n",
              "      <td>0.499698</td>\n",
              "      <td>0.455552</td>\n",
              "      <td>19365.351795</td>\n",
              "      <td>2820.765050</td>\n",
              "      <td>2.292406</td>\n",
              "      <td>0.572472</td>\n",
              "      <td>1.690730</td>\n",
              "      <td>0.451425</td>\n",
              "    </tr>\n",
              "    <tr>\n",
              "      <th>min</th>\n",
              "      <td>0.000000</td>\n",
              "      <td>0.000000</td>\n",
              "      <td>0.000000</td>\n",
              "      <td>10238.000000</td>\n",
              "      <td>2000.000000</td>\n",
              "      <td>0.000000</td>\n",
              "      <td>0.000000</td>\n",
              "      <td>0.000000</td>\n",
              "      <td>0.000000</td>\n",
              "    </tr>\n",
              "    <tr>\n",
              "      <th>25%</th>\n",
              "      <td>0.000000</td>\n",
              "      <td>0.000000</td>\n",
              "      <td>0.000000</td>\n",
              "      <td>10238.000000</td>\n",
              "      <td>10000.000000</td>\n",
              "      <td>0.000000</td>\n",
              "      <td>0.000000</td>\n",
              "      <td>0.000000</td>\n",
              "      <td>0.000000</td>\n",
              "    </tr>\n",
              "    <tr>\n",
              "      <th>50%</th>\n",
              "      <td>1.000000</td>\n",
              "      <td>1.000000</td>\n",
              "      <td>1.000000</td>\n",
              "      <td>10238.000000</td>\n",
              "      <td>12000.000000</td>\n",
              "      <td>1.000000</td>\n",
              "      <td>0.000000</td>\n",
              "      <td>0.000000</td>\n",
              "      <td>0.000000</td>\n",
              "    </tr>\n",
              "    <tr>\n",
              "      <th>75%</th>\n",
              "      <td>1.000000</td>\n",
              "      <td>1.000000</td>\n",
              "      <td>1.000000</td>\n",
              "      <td>32765.000000</td>\n",
              "      <td>13000.000000</td>\n",
              "      <td>2.000000</td>\n",
              "      <td>0.000000</td>\n",
              "      <td>2.000000</td>\n",
              "      <td>1.000000</td>\n",
              "    </tr>\n",
              "    <tr>\n",
              "      <th>max</th>\n",
              "      <td>1.000000</td>\n",
              "      <td>1.000000</td>\n",
              "      <td>1.000000</td>\n",
              "      <td>92101.000000</td>\n",
              "      <td>22000.000000</td>\n",
              "      <td>22.000000</td>\n",
              "      <td>6.000000</td>\n",
              "      <td>15.000000</td>\n",
              "      <td>1.000000</td>\n",
              "    </tr>\n",
              "  </tbody>\n",
              "</table>\n",
              "</div>\n",
              "    <div class=\"colab-df-buttons\">\n",
              "\n",
              "  <div class=\"colab-df-container\">\n",
              "    <button class=\"colab-df-convert\" onclick=\"convertToInteractive('df-c544a2c8-0ff0-491c-ba1a-a4f2c4409255')\"\n",
              "            title=\"Convert this dataframe to an interactive table.\"\n",
              "            style=\"display:none;\">\n",
              "\n",
              "  <svg xmlns=\"http://www.w3.org/2000/svg\" height=\"24px\" viewBox=\"0 -960 960 960\">\n",
              "    <path d=\"M120-120v-720h720v720H120Zm60-500h600v-160H180v160Zm220 220h160v-160H400v160Zm0 220h160v-160H400v160ZM180-400h160v-160H180v160Zm440 0h160v-160H620v160ZM180-180h160v-160H180v160Zm440 0h160v-160H620v160Z\"/>\n",
              "  </svg>\n",
              "    </button>\n",
              "\n",
              "  <style>\n",
              "    .colab-df-container {\n",
              "      display:flex;\n",
              "      gap: 12px;\n",
              "    }\n",
              "\n",
              "    .colab-df-convert {\n",
              "      background-color: #E8F0FE;\n",
              "      border: none;\n",
              "      border-radius: 50%;\n",
              "      cursor: pointer;\n",
              "      display: none;\n",
              "      fill: #1967D2;\n",
              "      height: 32px;\n",
              "      padding: 0 0 0 0;\n",
              "      width: 32px;\n",
              "    }\n",
              "\n",
              "    .colab-df-convert:hover {\n",
              "      background-color: #E2EBFA;\n",
              "      box-shadow: 0px 1px 2px rgba(60, 64, 67, 0.3), 0px 1px 3px 1px rgba(60, 64, 67, 0.15);\n",
              "      fill: #174EA6;\n",
              "    }\n",
              "\n",
              "    .colab-df-buttons div {\n",
              "      margin-bottom: 4px;\n",
              "    }\n",
              "\n",
              "    [theme=dark] .colab-df-convert {\n",
              "      background-color: #3B4455;\n",
              "      fill: #D2E3FC;\n",
              "    }\n",
              "\n",
              "    [theme=dark] .colab-df-convert:hover {\n",
              "      background-color: #434B5C;\n",
              "      box-shadow: 0px 1px 3px 1px rgba(0, 0, 0, 0.15);\n",
              "      filter: drop-shadow(0px 1px 2px rgba(0, 0, 0, 0.3));\n",
              "      fill: #FFFFFF;\n",
              "    }\n",
              "  </style>\n",
              "\n",
              "    <script>\n",
              "      const buttonEl =\n",
              "        document.querySelector('#df-c544a2c8-0ff0-491c-ba1a-a4f2c4409255 button.colab-df-convert');\n",
              "      buttonEl.style.display =\n",
              "        google.colab.kernel.accessAllowed ? 'block' : 'none';\n",
              "\n",
              "      async function convertToInteractive(key) {\n",
              "        const element = document.querySelector('#df-c544a2c8-0ff0-491c-ba1a-a4f2c4409255');\n",
              "        const dataTable =\n",
              "          await google.colab.kernel.invokeFunction('convertToInteractive',\n",
              "                                                    [key], {});\n",
              "        if (!dataTable) return;\n",
              "\n",
              "        const docLinkHtml = 'Like what you see? Visit the ' +\n",
              "          '<a target=\"_blank\" href=https://colab.research.google.com/notebooks/data_table.ipynb>data table notebook</a>'\n",
              "          + ' to learn more about interactive tables.';\n",
              "        element.innerHTML = '';\n",
              "        dataTable['output_type'] = 'display_data';\n",
              "        await google.colab.output.renderOutput(dataTable, element);\n",
              "        const docLink = document.createElement('div');\n",
              "        docLink.innerHTML = docLinkHtml;\n",
              "        element.appendChild(docLink);\n",
              "      }\n",
              "    </script>\n",
              "  </div>\n",
              "\n",
              "\n",
              "<div id=\"df-d11a9554-a673-4684-8922-ff9be5c6b73e\">\n",
              "  <button class=\"colab-df-quickchart\" onclick=\"quickchart('df-d11a9554-a673-4684-8922-ff9be5c6b73e')\"\n",
              "            title=\"Suggest charts.\"\n",
              "            style=\"display:none;\">\n",
              "\n",
              "<svg xmlns=\"http://www.w3.org/2000/svg\" height=\"24px\"viewBox=\"0 0 24 24\"\n",
              "     width=\"24px\">\n",
              "    <g>\n",
              "        <path d=\"M19 3H5c-1.1 0-2 .9-2 2v14c0 1.1.9 2 2 2h14c1.1 0 2-.9 2-2V5c0-1.1-.9-2-2-2zM9 17H7v-7h2v7zm4 0h-2V7h2v10zm4 0h-2v-4h2v4z\"/>\n",
              "    </g>\n",
              "</svg>\n",
              "  </button>\n",
              "\n",
              "<style>\n",
              "  .colab-df-quickchart {\n",
              "      --bg-color: #E8F0FE;\n",
              "      --fill-color: #1967D2;\n",
              "      --hover-bg-color: #E2EBFA;\n",
              "      --hover-fill-color: #174EA6;\n",
              "      --disabled-fill-color: #AAA;\n",
              "      --disabled-bg-color: #DDD;\n",
              "  }\n",
              "\n",
              "  [theme=dark] .colab-df-quickchart {\n",
              "      --bg-color: #3B4455;\n",
              "      --fill-color: #D2E3FC;\n",
              "      --hover-bg-color: #434B5C;\n",
              "      --hover-fill-color: #FFFFFF;\n",
              "      --disabled-bg-color: #3B4455;\n",
              "      --disabled-fill-color: #666;\n",
              "  }\n",
              "\n",
              "  .colab-df-quickchart {\n",
              "    background-color: var(--bg-color);\n",
              "    border: none;\n",
              "    border-radius: 50%;\n",
              "    cursor: pointer;\n",
              "    display: none;\n",
              "    fill: var(--fill-color);\n",
              "    height: 32px;\n",
              "    padding: 0;\n",
              "    width: 32px;\n",
              "  }\n",
              "\n",
              "  .colab-df-quickchart:hover {\n",
              "    background-color: var(--hover-bg-color);\n",
              "    box-shadow: 0 1px 2px rgba(60, 64, 67, 0.3), 0 1px 3px 1px rgba(60, 64, 67, 0.15);\n",
              "    fill: var(--button-hover-fill-color);\n",
              "  }\n",
              "\n",
              "  .colab-df-quickchart-complete:disabled,\n",
              "  .colab-df-quickchart-complete:disabled:hover {\n",
              "    background-color: var(--disabled-bg-color);\n",
              "    fill: var(--disabled-fill-color);\n",
              "    box-shadow: none;\n",
              "  }\n",
              "\n",
              "  .colab-df-spinner {\n",
              "    border: 2px solid var(--fill-color);\n",
              "    border-color: transparent;\n",
              "    border-bottom-color: var(--fill-color);\n",
              "    animation:\n",
              "      spin 1s steps(1) infinite;\n",
              "  }\n",
              "\n",
              "  @keyframes spin {\n",
              "    0% {\n",
              "      border-color: transparent;\n",
              "      border-bottom-color: var(--fill-color);\n",
              "      border-left-color: var(--fill-color);\n",
              "    }\n",
              "    20% {\n",
              "      border-color: transparent;\n",
              "      border-left-color: var(--fill-color);\n",
              "      border-top-color: var(--fill-color);\n",
              "    }\n",
              "    30% {\n",
              "      border-color: transparent;\n",
              "      border-left-color: var(--fill-color);\n",
              "      border-top-color: var(--fill-color);\n",
              "      border-right-color: var(--fill-color);\n",
              "    }\n",
              "    40% {\n",
              "      border-color: transparent;\n",
              "      border-right-color: var(--fill-color);\n",
              "      border-top-color: var(--fill-color);\n",
              "    }\n",
              "    60% {\n",
              "      border-color: transparent;\n",
              "      border-right-color: var(--fill-color);\n",
              "    }\n",
              "    80% {\n",
              "      border-color: transparent;\n",
              "      border-right-color: var(--fill-color);\n",
              "      border-bottom-color: var(--fill-color);\n",
              "    }\n",
              "    90% {\n",
              "      border-color: transparent;\n",
              "      border-bottom-color: var(--fill-color);\n",
              "    }\n",
              "  }\n",
              "</style>\n",
              "\n",
              "  <script>\n",
              "    async function quickchart(key) {\n",
              "      const quickchartButtonEl =\n",
              "        document.querySelector('#' + key + ' button');\n",
              "      quickchartButtonEl.disabled = true;  // To prevent multiple clicks.\n",
              "      quickchartButtonEl.classList.add('colab-df-spinner');\n",
              "      try {\n",
              "        const charts = await google.colab.kernel.invokeFunction(\n",
              "            'suggestCharts', [key], {});\n",
              "      } catch (error) {\n",
              "        console.error('Error during call to suggestCharts:', error);\n",
              "      }\n",
              "      quickchartButtonEl.classList.remove('colab-df-spinner');\n",
              "      quickchartButtonEl.classList.add('colab-df-quickchart-complete');\n",
              "    }\n",
              "    (() => {\n",
              "      let quickchartButtonEl =\n",
              "        document.querySelector('#df-d11a9554-a673-4684-8922-ff9be5c6b73e button');\n",
              "      quickchartButtonEl.style.display =\n",
              "        google.colab.kernel.accessAllowed ? 'block' : 'none';\n",
              "    })();\n",
              "  </script>\n",
              "</div>\n",
              "    </div>\n",
              "  </div>\n"
            ]
          },
          "metadata": {},
          "execution_count": 65
        }
      ]
    },
    {
      "cell_type": "markdown",
      "source": [
        "* Dataset has got some outliers Speeding_Violations, Duis and Pass_Accidents because their max value, min_value and mean shows abig gap between them.\n",
        "* Credict Score has missing Values as well as Annual_Mileage has missing values."
      ],
      "metadata": {
        "id": "g4BOTbi-7t5z"
      }
    },
    {
      "cell_type": "code",
      "source": [
        "\n",
        "# median of annual mileage\n",
        "am_median = dfcar_insure['ANNUAL_MILEAGE'].median()\n",
        "am_median"
      ],
      "metadata": {
        "colab": {
          "base_uri": "https://localhost:8080/"
        },
        "id": "3aiyy9fr7yug",
        "outputId": "bb0ff23e-9b51-4695-d9ac-1c68569b523f"
      },
      "execution_count": 66,
      "outputs": [
        {
          "output_type": "execute_result",
          "data": {
            "text/plain": [
              "12000.0"
            ]
          },
          "metadata": {},
          "execution_count": 66
        }
      ]
    },
    {
      "cell_type": "code",
      "source": [
        "# replacing null values using placeholders\n",
        "\n",
        "dfcar_insure['ANNUAL_MILEAGE'] = dfcar_insure['ANNUAL_MILEAGE'].fillna(am_median)"
      ],
      "metadata": {
        "id": "uH2Y0sPZ7-dG"
      },
      "execution_count": 67,
      "outputs": []
    },
    {
      "cell_type": "code",
      "source": [
        "#re-checking null values\n",
        "dfcar_insure['ANNUAL_MILEAGE'].isna().sum()"
      ],
      "metadata": {
        "colab": {
          "base_uri": "https://localhost:8080/"
        },
        "id": "flw8aazB9Hdv",
        "outputId": "09939b5b-403c-4a48-8362-b2345e40dae5"
      },
      "execution_count": 68,
      "outputs": [
        {
          "output_type": "execute_result",
          "data": {
            "text/plain": [
              "0"
            ]
          },
          "metadata": {},
          "execution_count": 68
        }
      ]
    },
    {
      "cell_type": "markdown",
      "source": [
        "### Visualization"
      ],
      "metadata": {
        "id": "ZdE0oIk49Pj4"
      }
    },
    {
      "cell_type": "markdown",
      "source": [
        "#### Univariate Visualization"
      ],
      "metadata": {
        "id": "vWrQGqNv9acT"
      }
    },
    {
      "cell_type": "code",
      "source": [
        "# ploting Vehicle_Type\n",
        "ax = sbn.countplot(data = dfcar_insure, x ='VEHICLE_TYPE', hue ='OUTCOME')\n",
        "ax.set_title('Counts of Vehicle Type That Get Insured ')"
      ],
      "metadata": {
        "colab": {
          "base_uri": "https://localhost:8080/",
          "height": 489
        },
        "id": "XHnAhIUl-FM6",
        "outputId": "665b3c40-af53-4146-f9e4-a96b4d11d150"
      },
      "execution_count": 102,
      "outputs": [
        {
          "output_type": "execute_result",
          "data": {
            "text/plain": [
              "Text(0.5, 1.0, 'Counts of Vehicle Type That Get Insured ')"
            ]
          },
          "metadata": {},
          "execution_count": 102
        },
        {
          "output_type": "display_data",
          "data": {
            "text/plain": [
              "<Figure size 640x480 with 1 Axes>"
            ],
            "image/png": "[encoded data removed]"
          },
          "metadata": {}
        }
      ]
    },
    {
      "cell_type": "markdown",
      "source": [
        "The graph shows that most insured cars are seden type of cars with an overwhelming over 9000 counts in the data set and sports cars below 1000 counts"
      ],
      "metadata": {
        "id": "kmZbKy-j-394"
      }
    },
    {
      "cell_type": "code",
      "source": [
        "# checking the outliers\n",
        "## making 2 side-by-side subplots\n",
        "\n",
        "\n",
        "### Creating the Figure and Axes with matplotlib\n",
        "fig, axes = plt.subplots(nrows = 1, ncols = 3, figsize = (10,8), sharex=True)\n",
        "# Plotting Subplot 1 with Seaborn\n",
        "sbn.boxplot(data=dfcar_insure, x='PAST_ACCIDENTS', ax=axes[0])\n",
        "axes[0].set_title('Outliers on PAST_ACCIDENTS', fontsize = 12);\n",
        "# Plotting Subplot 2 with Pandas\n",
        "sbn.boxplot(data=dfcar_insure, x='DUIS', ax=axes[1])\n",
        "axes[1].set_title('Outliers on DUIS', fontsize = 12);\n",
        "\n",
        "sbn.boxplot(data=dfcar_insure, x='SPEEDING_VIOLATIONS', ax=axes[2])\n",
        "axes[2].set_title('Outliers on SPEEDING_VIOLATIONS', fontsize = 12);\n",
        "## Fixing overlapping labels\n",
        "fig.tight_layout()\n"
      ],
      "metadata": {
        "colab": {
          "base_uri": "https://localhost:8080/",
          "height": 807
        },
        "id": "z8Zc9ERCS6uj",
        "outputId": "08075456-4bfc-4e27-f793-74f74e206f56"
      },
      "execution_count": 70,
      "outputs": [
        {
          "output_type": "display_data",
          "data": {
            "text/plain": [
              "<Figure size 1000x800 with 3 Axes>"
            ],
            "image/png": "[encoded data removed]"
          },
          "metadata": {}
        }
      ]
    },
    {
      "cell_type": "markdown",
      "source": [
        "The above graph shows that the dataset has outliers on Past_Accidents , DUIS and Speeding violation."
      ],
      "metadata": {
        "id": "zFoOPrZOV6LO"
      }
    },
    {
      "cell_type": "code",
      "source": [
        "# target visuals\n",
        "ax= sbn.histplot(data =dfcar_insure, x='AGE')"
      ],
      "metadata": {
        "id": "XU4P3FvfYaRU",
        "colab": {
          "base_uri": "https://localhost:8080/",
          "height": 449
        },
        "outputId": "804a7f89-ff08-46eb-f668-0610b162bce5"
      },
      "execution_count": 71,
      "outputs": [
        {
          "output_type": "display_data",
          "data": {
            "text/plain": [
              "<Figure size 640x480 with 1 Axes>"
            ],
            "image/png": "[encoded data removed]"
          },
          "metadata": {}
        }
      ]
    },
    {
      "cell_type": "markdown",
      "source": [
        "The graph shows that people between ages of 26 - 39 are more like to ensure their cars, followed closely by 40 - 64. Young people between age 16 - 25 and people who are  65 and older are not that keen to take insurance."
      ],
      "metadata": {
        "id": "oSJ6PbA2bMBc"
      }
    },
    {
      "cell_type": "code",
      "source": [
        "## Use seaborn's histplot function and save the ax\n",
        "ax = sbn.histplot(data=dfcar_insure, x=\"DRIVING_EXPERIENCE\")\n",
        "ax.tick_params(axis='x', rotation = 45);\n",
        "ax.set_title('Years of Experiance And Most likely to Insure ')\n"
      ],
      "metadata": {
        "colab": {
          "base_uri": "https://localhost:8080/",
          "height": 519
        },
        "id": "uHiIVj23bIsU",
        "outputId": "65b9968a-808d-44fc-963a-6ac969c39b01"
      },
      "execution_count": 72,
      "outputs": [
        {
          "output_type": "execute_result",
          "data": {
            "text/plain": [
              "Text(0.5, 1.0, 'Years of Experiance And Most likely to Insure ')"
            ]
          },
          "metadata": {},
          "execution_count": 72
        },
        {
          "output_type": "display_data",
          "data": {
            "text/plain": [
              "<Figure size 640x480 with 1 Axes>"
            ],
            "image/png": "[encoded data removed]"
          },
          "metadata": {}
        }
      ]
    },
    {
      "cell_type": "markdown",
      "source": [
        "Graph clearly shows that people with more yeaqrs of experiance are more likely not to ensure their cars as compare to those with least number of years."
      ],
      "metadata": {
        "id": "y08lCe-Zd6Wd"
      }
    },
    {
      "cell_type": "code",
      "source": [
        "# education\n",
        "ax = sbn.histplot(data = dfcar_insure, x='EDUCATION')\n"
      ],
      "metadata": {
        "colab": {
          "base_uri": "https://localhost:8080/",
          "height": 449
        },
        "id": "9czw956LeXEV",
        "outputId": "8d01424b-871a-4696-f8ab-7263878d658c"
      },
      "execution_count": 95,
      "outputs": [
        {
          "output_type": "display_data",
          "data": {
            "text/plain": [
              "<Figure size 640x480 with 1 Axes>"
            ],
            "image/png": "[encoded data removed]"
          },
          "metadata": {}
        }
      ]
    },
    {
      "cell_type": "markdown",
      "source": [
        "People with no education are more likely not to have  cars than those with little level of Education  "
      ],
      "metadata": {
        "id": "hKLRkrSwoRCd"
      }
    },
    {
      "cell_type": "code",
      "source": [
        "\n",
        "ax = sbn.countplot(data=dfcar_insure, x=\"MARRIED\", hue='OUTCOME')\n",
        "ax.tick_params(axis='x', rotation = 45);\n",
        "ax.set_title('Count OF MARRIAD VS UNMARRIED IN Insurance dataset  ')"
      ],
      "metadata": {
        "colab": {
          "base_uri": "https://localhost:8080/",
          "height": 500
        },
        "id": "OuDTWvKLKmr2",
        "outputId": "b9ab2f7d-6946-43a1-b302-f363619064b7"
      },
      "execution_count": 85,
      "outputs": [
        {
          "output_type": "execute_result",
          "data": {
            "text/plain": [
              "Text(0.5, 1.0, 'Count OF MARRIAD VS UNMARRIED IN Insurance dataset  ')"
            ]
          },
          "metadata": {},
          "execution_count": 85
        },
        {
          "output_type": "display_data",
          "data": {
            "text/plain": [
              "<Figure size 640x480 with 1 Axes>"
            ],
            "image/png": "[encoded data removed]"
          },
          "metadata": {}
        }
      ]
    },
    {
      "cell_type": "code",
      "source": [
        "# countplot\n",
        "ax = sbn.countplot(data=dfcar_insure, x=\"ANNUAL_MILEAGE\", hue='OUTCOME')\n",
        "ax.tick_params(axis='x', rotation = 45);\n",
        "ax.set_title('ANNUAL_MILEAGE cars likely to InsureD ')"
      ],
      "metadata": {
        "colab": {
          "base_uri": "https://localhost:8080/",
          "height": 525
        },
        "id": "bCGvvvcSeW0P",
        "outputId": "23b5b4c0-ec53-4e02-9574-42ac325bc74d"
      },
      "execution_count": 99,
      "outputs": [
        {
          "output_type": "execute_result",
          "data": {
            "text/plain": [
              "Text(0.5, 1.0, 'ANNUAL_MILEAGE cars likely to InsureD ')"
            ]
          },
          "metadata": {},
          "execution_count": 99
        },
        {
          "output_type": "display_data",
          "data": {
            "text/plain": [
              "<Figure size 640x480 with 1 Axes>"
            ],
            "image/png": "[encoded data removed]"
          },
          "metadata": {}
        }
      ]
    },
    {
      "cell_type": "markdown",
      "source": [
        "Cars with yearly mileage of between 11000 and 13000 are more likely to be insured"
      ],
      "metadata": {
        "id": "Gy4BxmJTRMds"
      }
    },
    {
      "cell_type": "code",
      "source": [
        "\n",
        "ax = sbn.countplot(data=dfcar_insure, x='POSTAL_CODE', hue='OUTCOME')\n",
        "ax.tick_params(axis='x', rotation = 45);\n",
        "ax.set_title('People in Postal Area More likely to InsureD ')"
      ],
      "metadata": {
        "colab": {
          "base_uri": "https://localhost:8080/",
          "height": 516
        },
        "id": "P_6YFEbwSkwh",
        "outputId": "e6089533-764c-4c31-84aa-fcfbb09720d8"
      },
      "execution_count": 90,
      "outputs": [
        {
          "output_type": "execute_result",
          "data": {
            "text/plain": [
              "Text(0.5, 1.0, 'People in Postal Area More likely to InsureD ')"
            ]
          },
          "metadata": {},
          "execution_count": 90
        },
        {
          "output_type": "display_data",
          "data": {
            "text/plain": [
              "<Figure size 640x480 with 1 Axes>"
            ],
            "image/png": "[encoded data removed]"
          },
          "metadata": {}
        }
      ]
    },
    {
      "cell_type": "markdown",
      "source": [
        "Areas in postal Area 10238 are more likely to insure their cars compare to people living in 21217 areas. It could mean that are is in high risk."
      ],
      "metadata": {
        "id": "XIj3R_TGTT6q"
      }
    },
    {
      "cell_type": "code",
      "source": [
        "\n",
        "ax = sbn.countplot(data=dfcar_insure, x=\"CHILDREN\", hue= 'OUTCOME')\n",
        "ax.tick_params(axis='x', rotation = 45);\n",
        "ax.set_title('CHILDREN Number  ')"
      ],
      "metadata": {
        "colab": {
          "base_uri": "https://localhost:8080/",
          "height": 500
        },
        "id": "wjUqe2jvWL3u",
        "outputId": "deddb2b7-8286-4143-a1bd-9fa74025d9f8"
      },
      "execution_count": 89,
      "outputs": [
        {
          "output_type": "execute_result",
          "data": {
            "text/plain": [
              "Text(0.5, 1.0, 'CHILDREN Number  ')"
            ]
          },
          "metadata": {},
          "execution_count": 89
        },
        {
          "output_type": "display_data",
          "data": {
            "text/plain": [
              "<Figure size 640x480 with 1 Axes>"
            ],
            "image/png": "[encoded data removed]"
          },
          "metadata": {}
        }
      ]
    },
    {
      "cell_type": "markdown",
      "source": [
        "Having Children or not is not a determining factor of whether a person can take insurance or not"
      ],
      "metadata": {
        "id": "-cdcOrhmZaA7"
      }
    },
    {
      "cell_type": "code",
      "source": [
        "#VEHICLE_YEAR\n",
        "ax = sbn.countplot(data=dfcar_insure, x=\"VEHICLE_YEAR\", hue ='OUTCOME')\n",
        "ax.tick_params(axis='x', rotation = 45);\n",
        "ax.set_title('VEHICLE_YEAR cars likely To Be InsureD ')"
      ],
      "metadata": {
        "colab": {
          "base_uri": "https://localhost:8080/",
          "height": 544
        },
        "id": "dsTXbBj3Zp6r",
        "outputId": "b120340d-a7af-407b-f0d2-aa8a4aaa6d77"
      },
      "execution_count": 100,
      "outputs": [
        {
          "output_type": "execute_result",
          "data": {
            "text/plain": [
              "Text(0.5, 1.0, 'VEHICLE_YEAR cars likely to InsureD ')"
            ]
          },
          "metadata": {},
          "execution_count": 100
        },
        {
          "output_type": "display_data",
          "data": {
            "text/plain": [
              "<Figure size 640x480 with 1 Axes>"
            ],
            "image/png": "[encoded data removed]"
          },
          "metadata": {}
        }
      ]
    },
    {
      "cell_type": "markdown",
      "source": [
        "Strangely, the numbers are showing that car that are before 2015 get higher count to be insured than the cars of of after 2015, the factors could be that cars that are after 2015 are more expensive to insure than the cars of before 2015."
      ],
      "metadata": {
        "id": "yGXA8btMaXU9"
      }
    },
    {
      "cell_type": "code",
      "source": [
        "#OWNERSHIP\n",
        "ax = sbn.countplot(data=dfcar_insure, x=\"VEHICLE_OWNERSHIP\", hue ='OUTCOME')\n",
        "ax.tick_params(axis='x', rotation = 45);\n",
        "ax.set_title('VEHICLE_OWNERSHIP  ')"
      ],
      "metadata": {
        "colab": {
          "base_uri": "https://localhost:8080/",
          "height": 500
        },
        "id": "_b_posfpaW3k",
        "outputId": "3b293a5b-50ed-41d0-dbd3-65735a2d1117"
      },
      "execution_count": 104,
      "outputs": [
        {
          "output_type": "execute_result",
          "data": {
            "text/plain": [
              "Text(0.5, 1.0, 'VEHICLE_OWNERSHIP  ')"
            ]
          },
          "metadata": {},
          "execution_count": 104
        },
        {
          "output_type": "display_data",
          "data": {
            "text/plain": [
              "<Figure size 640x480 with 1 Axes>"
            ],
            "image/png": "[encoded data removed]"
          },
          "metadata": {}
        }
      ]
    },
    {
      "cell_type": "markdown",
      "source": [
        "The ownership of vehicle has a driving factor in of whether to insure a car or not. The number are showing a decrease of people insuring their cars"
      ],
      "metadata": {
        "id": "KZrct5g0c6TG"
      }
    },
    {
      "cell_type": "code",
      "source": [
        "\n",
        "ax = sbn.countplot(data=dfcar_insure, x=\"GENDER\", hue ='OUTCOME')\n",
        "ax.tick_params(axis='x', rotation = 45);\n",
        "ax.set_title('Which Gender is More Likely To Insure ')"
      ],
      "metadata": {
        "colab": {
          "base_uri": "https://localhost:8080/",
          "height": 519
        },
        "id": "sk2XXU8DcNf4",
        "outputId": "942f9c1d-b564-4158-8412-45d1e54ebb66"
      },
      "execution_count": 108,
      "outputs": [
        {
          "output_type": "execute_result",
          "data": {
            "text/plain": [
              "Text(0.5, 1.0, 'Which Gender is More Likely To Insure ')"
            ]
          },
          "metadata": {},
          "execution_count": 108
        },
        {
          "output_type": "display_data",
          "data": {
            "text/plain": [
              "<Figure size 640x480 with 1 Axes>"
            ],
            "image/png": "[encoded data removed]"
          },
          "metadata": {}
        }
      ]
    },
    {
      "cell_type": "markdown",
      "source": [
        "Males are showing more trend of insuring their cars than female, even though more female with 3500 are having cars than males slightly below 3200."
      ],
      "metadata": {
        "id": "2U7bLO_Jd5Dy"
      }
    },
    {
      "cell_type": "code",
      "source": [
        "# RACE\n",
        "\n",
        "ax = sbn.countplot(data=dfcar_insure, x=\"RACE\", hue ='OUTCOME')\n",
        "ax.tick_params(axis='x', rotation = 45);\n",
        "ax.set_title('Which Race More Likely To  Insure ')"
      ],
      "metadata": {
        "colab": {
          "base_uri": "https://localhost:8080/",
          "height": 526
        },
        "id": "ozERnBKse-b_",
        "outputId": "cb36827a-7972-44a2-f186-04aef9b40b41"
      },
      "execution_count": 107,
      "outputs": [
        {
          "output_type": "execute_result",
          "data": {
            "text/plain": [
              "Text(0.5, 1.0, 'Which Race More Likely To  Insure ')"
            ]
          },
          "metadata": {},
          "execution_count": 107
        },
        {
          "output_type": "display_data",
          "data": {
            "text/plain": [
              "<Figure size 640x480 with 1 Axes>"
            ],
            "image/png": "[encoded data removed]"
          },
          "metadata": {}
        }
      ]
    },
    {
      "cell_type": "markdown",
      "source": [
        "Majority Race is more likely to insure than minority race , this is due to the fact that more people are having cars in Majority race and propotion of insuring is also high."
      ],
      "metadata": {
        "id": "u6xASeSjfUXQ"
      }
    },
    {
      "cell_type": "code",
      "source": [
        "#OUTCOME\n",
        "ax = sbn.countplot(data=dfcar_insure, x=\"OUTCOME\",)\n",
        "ax.tick_params(axis='x', rotation = 45);\n",
        "ax.set_title('OUTCOME ')"
      ],
      "metadata": {
        "colab": {
          "base_uri": "https://localhost:8080/",
          "height": 500
        },
        "id": "50_ZjkSIgR3z",
        "outputId": "ed080d3a-c8a8-4179-c6a9-d44a8ca05d4e"
      },
      "execution_count": 111,
      "outputs": [
        {
          "output_type": "execute_result",
          "data": {
            "text/plain": [
              "Text(0.5, 1.0, 'OUTCOME ')"
            ]
          },
          "metadata": {},
          "execution_count": 111
        },
        {
          "output_type": "display_data",
          "data": {
            "text/plain": [
              "<Figure size 640x480 with 1 Axes>"
            ],
            "image/png": "[encoded data removed]"
          },
          "metadata": {}
        }
      ]
    },
    {
      "cell_type": "markdown",
      "source": [
        "For number of people having cars, more than 6000 dont have insurance and only 2500 have taken insurances. There are many factors affecting the outcome, it could be that people do not see a neeed of taking insurence when they have ownership of the car,  and again financial insecurities can play a role also."
      ],
      "metadata": {
        "id": "hCl29LtZgwNB"
      }
    }
  ]
}